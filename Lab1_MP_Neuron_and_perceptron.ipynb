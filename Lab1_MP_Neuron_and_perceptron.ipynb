{
  "nbformat": 4,
  "nbformat_minor": 0,
  "metadata": {
    "colab": {
      "provenance": []
    },
    "kernelspec": {
      "name": "python3",
      "display_name": "Python 3"
    },
    "language_info": {
      "name": "python"
    }
  },
  "cells": [
    {
      "cell_type": "markdown",
      "source": [
        "# ***OR Gate***"
      ],
      "metadata": {
        "id": "mENVWpozCqJh"
      }
    },
    {
      "cell_type": "code",
      "source": [
        "import pandas as pd\n",
        "data={'Input1':[1,1,0,0],'Input2':[1,0,1,0],'Output':[1,1,1,0]}\n",
        "df_OR=pd.DataFrame(data)\n",
        "df_OR"
      ],
      "metadata": {
        "colab": {
          "base_uri": "https://localhost:8080/",
          "height": 175
        },
        "id": "zArwkU7P-x4c",
        "outputId": "7efd7b12-4549-4300-f40c-57caff38ff46"
      },
      "execution_count": null,
      "outputs": [
        {
          "output_type": "execute_result",
          "data": {
            "text/plain": [
              "   Input1  Input2  Output\n",
              "0       1       1       1\n",
              "1       1       0       1\n",
              "2       0       1       1\n",
              "3       0       0       0"
            ],
            "text/html": [
              "\n",
              "  <div id=\"df-a898ff32-53eb-4633-9981-5d20534bca70\">\n",
              "    <div class=\"colab-df-container\">\n",
              "      <div>\n",
              "<style scoped>\n",
              "    .dataframe tbody tr th:only-of-type {\n",
              "        vertical-align: middle;\n",
              "    }\n",
              "\n",
              "    .dataframe tbody tr th {\n",
              "        vertical-align: top;\n",
              "    }\n",
              "\n",
              "    .dataframe thead th {\n",
              "        text-align: right;\n",
              "    }\n",
              "</style>\n",
              "<table border=\"1\" class=\"dataframe\">\n",
              "  <thead>\n",
              "    <tr style=\"text-align: right;\">\n",
              "      <th></th>\n",
              "      <th>Input1</th>\n",
              "      <th>Input2</th>\n",
              "      <th>Output</th>\n",
              "    </tr>\n",
              "  </thead>\n",
              "  <tbody>\n",
              "    <tr>\n",
              "      <th>0</th>\n",
              "      <td>1</td>\n",
              "      <td>1</td>\n",
              "      <td>1</td>\n",
              "    </tr>\n",
              "    <tr>\n",
              "      <th>1</th>\n",
              "      <td>1</td>\n",
              "      <td>0</td>\n",
              "      <td>1</td>\n",
              "    </tr>\n",
              "    <tr>\n",
              "      <th>2</th>\n",
              "      <td>0</td>\n",
              "      <td>1</td>\n",
              "      <td>1</td>\n",
              "    </tr>\n",
              "    <tr>\n",
              "      <th>3</th>\n",
              "      <td>0</td>\n",
              "      <td>0</td>\n",
              "      <td>0</td>\n",
              "    </tr>\n",
              "  </tbody>\n",
              "</table>\n",
              "</div>\n",
              "      <button class=\"colab-df-convert\" onclick=\"convertToInteractive('df-a898ff32-53eb-4633-9981-5d20534bca70')\"\n",
              "              title=\"Convert this dataframe to an interactive table.\"\n",
              "              style=\"display:none;\">\n",
              "        \n",
              "  <svg xmlns=\"http://www.w3.org/2000/svg\" height=\"24px\"viewBox=\"0 0 24 24\"\n",
              "       width=\"24px\">\n",
              "    <path d=\"M0 0h24v24H0V0z\" fill=\"none\"/>\n",
              "    <path d=\"M18.56 5.44l.94 2.06.94-2.06 2.06-.94-2.06-.94-.94-2.06-.94 2.06-2.06.94zm-11 1L8.5 8.5l.94-2.06 2.06-.94-2.06-.94L8.5 2.5l-.94 2.06-2.06.94zm10 10l.94 2.06.94-2.06 2.06-.94-2.06-.94-.94-2.06-.94 2.06-2.06.94z\"/><path d=\"M17.41 7.96l-1.37-1.37c-.4-.4-.92-.59-1.43-.59-.52 0-1.04.2-1.43.59L10.3 9.45l-7.72 7.72c-.78.78-.78 2.05 0 2.83L4 21.41c.39.39.9.59 1.41.59.51 0 1.02-.2 1.41-.59l7.78-7.78 2.81-2.81c.8-.78.8-2.07 0-2.86zM5.41 20L4 18.59l7.72-7.72 1.47 1.35L5.41 20z\"/>\n",
              "  </svg>\n",
              "      </button>\n",
              "      \n",
              "  <style>\n",
              "    .colab-df-container {\n",
              "      display:flex;\n",
              "      flex-wrap:wrap;\n",
              "      gap: 12px;\n",
              "    }\n",
              "\n",
              "    .colab-df-convert {\n",
              "      background-color: #E8F0FE;\n",
              "      border: none;\n",
              "      border-radius: 50%;\n",
              "      cursor: pointer;\n",
              "      display: none;\n",
              "      fill: #1967D2;\n",
              "      height: 32px;\n",
              "      padding: 0 0 0 0;\n",
              "      width: 32px;\n",
              "    }\n",
              "\n",
              "    .colab-df-convert:hover {\n",
              "      background-color: #E2EBFA;\n",
              "      box-shadow: 0px 1px 2px rgba(60, 64, 67, 0.3), 0px 1px 3px 1px rgba(60, 64, 67, 0.15);\n",
              "      fill: #174EA6;\n",
              "    }\n",
              "\n",
              "    [theme=dark] .colab-df-convert {\n",
              "      background-color: #3B4455;\n",
              "      fill: #D2E3FC;\n",
              "    }\n",
              "\n",
              "    [theme=dark] .colab-df-convert:hover {\n",
              "      background-color: #434B5C;\n",
              "      box-shadow: 0px 1px 3px 1px rgba(0, 0, 0, 0.15);\n",
              "      filter: drop-shadow(0px 1px 2px rgba(0, 0, 0, 0.3));\n",
              "      fill: #FFFFFF;\n",
              "    }\n",
              "  </style>\n",
              "\n",
              "      <script>\n",
              "        const buttonEl =\n",
              "          document.querySelector('#df-a898ff32-53eb-4633-9981-5d20534bca70 button.colab-df-convert');\n",
              "        buttonEl.style.display =\n",
              "          google.colab.kernel.accessAllowed ? 'block' : 'none';\n",
              "\n",
              "        async function convertToInteractive(key) {\n",
              "          const element = document.querySelector('#df-a898ff32-53eb-4633-9981-5d20534bca70');\n",
              "          const dataTable =\n",
              "            await google.colab.kernel.invokeFunction('convertToInteractive',\n",
              "                                                     [key], {});\n",
              "          if (!dataTable) return;\n",
              "\n",
              "          const docLinkHtml = 'Like what you see? Visit the ' +\n",
              "            '<a target=\"_blank\" href=https://colab.research.google.com/notebooks/data_table.ipynb>data table notebook</a>'\n",
              "            + ' to learn more about interactive tables.';\n",
              "          element.innerHTML = '';\n",
              "          dataTable['output_type'] = 'display_data';\n",
              "          await google.colab.output.renderOutput(dataTable, element);\n",
              "          const docLink = document.createElement('div');\n",
              "          docLink.innerHTML = docLinkHtml;\n",
              "          element.appendChild(docLink);\n",
              "        }\n",
              "      </script>\n",
              "    </div>\n",
              "  </div>\n",
              "  "
            ]
          },
          "metadata": {},
          "execution_count": 1
        }
      ]
    },
    {
      "cell_type": "code",
      "source": [
        "inputs=df_OR.iloc[:,0:2]\n",
        "output=df_OR.iloc[:,2]"
      ],
      "metadata": {
        "id": "MVhvJC7sAKCz"
      },
      "execution_count": null,
      "outputs": []
    },
    {
      "cell_type": "markdown",
      "source": [
        "***single layer perceptron***"
      ],
      "metadata": {
        "id": "9diDYDiLBdiF"
      }
    },
    {
      "cell_type": "code",
      "source": [
        "# Single layer perceptron -- OR Gate\n",
        "def unit(a):\n",
        "  if a>0:\n",
        "    return 1\n",
        "  else:\n",
        "    return 0\n",
        "\n",
        "def percep(x,w,b):\n",
        "  v=np.dot(x,w)+b\n",
        "  return unit(v)\n",
        "\n",
        "def orgate(x):\n",
        "  w=np.array([2,2])\n",
        "  b=-1\n",
        "  return percep(x,w,b)\n",
        "\n",
        "t1=np.array(inputs.iloc[0])\n",
        "t2=np.array(inputs.iloc[1])\n",
        "t3=np.array(inputs.iloc[2])\n",
        "t4=np.array(inputs.iloc[3])\n",
        "print('OR({},{}) = {}'.format(1,1,orgate(t1)))\n",
        "print('OR({},{}) = {}'.format(1,0,orgate(t2)))\n",
        "print('OR({},{}) = {}'.format(0,1,orgate(t3)))\n",
        "print('OR({},{}) = {}'.format(0,0,orgate(t4)))"
      ],
      "metadata": {
        "colab": {
          "base_uri": "https://localhost:8080/"
        },
        "id": "Fvj9QBLY_lEG",
        "outputId": "3e70c0bf-b361-4d95-8009-99b60e749c97"
      },
      "execution_count": null,
      "outputs": [
        {
          "output_type": "stream",
          "name": "stdout",
          "text": [
            "OR(1,1) = 1\n",
            "OR(1,0) = 1\n",
            "OR(0,1) = 1\n",
            "OR(0,0) = 0\n"
          ]
        }
      ]
    },
    {
      "cell_type": "markdown",
      "source": [
        "***mcCulloch-pitts neuron***"
      ],
      "metadata": {
        "id": "Jb3VG6AUBgx_"
      }
    },
    {
      "cell_type": "code",
      "source": [
        "# McCulloch-Pitts Neuron -- OR Gate\n",
        "def func_or(a):\n",
        "  if a>=1:\n",
        "    return 1\n",
        "  else:\n",
        "    return 0\n",
        "\n",
        "def orgate(x):\n",
        "  v=np.sum(x)\n",
        "  return func_or(v)\n",
        "\n",
        "t1=np.array(inputs.iloc[0])\n",
        "t2=np.array(inputs.iloc[1])\n",
        "t3=np.array(inputs.iloc[2])\n",
        "t4=np.array(inputs.iloc[3])\n",
        "print('OR({},{}) = {}'.format(1,1,orgate(t1)))\n",
        "print('OR({},{}) = {}'.format(1,0,orgate(t2)))\n",
        "print('OR({},{}) = {}'.format(0,1,orgate(t3)))\n",
        "print('OR({},{}) = {}'.format(0,0,orgate(t4)))"
      ],
      "metadata": {
        "colab": {
          "base_uri": "https://localhost:8080/"
        },
        "id": "Opro0J3bD-8R",
        "outputId": "8e5eca22-afe7-4bd7-a9b3-9c600bd60ea1"
      },
      "execution_count": null,
      "outputs": [
        {
          "output_type": "stream",
          "name": "stdout",
          "text": [
            "OR(1,1) = 1\n",
            "OR(1,0) = 1\n",
            "OR(0,1) = 1\n",
            "OR(0,0) = 0\n"
          ]
        }
      ]
    },
    {
      "cell_type": "markdown",
      "source": [
        "# ***AND Gate***"
      ],
      "metadata": {
        "id": "zuH9jPnjC-tp"
      }
    },
    {
      "cell_type": "code",
      "source": [
        "import pandas as pd\n",
        "data1={'Input1':[1,1,0,0],'Input2':[1,0,1,0],'Output':[1,0,0,0]}\n",
        "df_AND=pd.DataFrame(data)\n",
        "df_AND"
      ],
      "metadata": {
        "colab": {
          "base_uri": "https://localhost:8080/",
          "height": 175
        },
        "id": "dzzs6xeODAFs",
        "outputId": "9abbc091-213f-4440-a904-99d6490d7933"
      },
      "execution_count": null,
      "outputs": [
        {
          "output_type": "execute_result",
          "data": {
            "text/plain": [
              "   Input1  Input2  Output\n",
              "0       1       1       1\n",
              "1       1       0       1\n",
              "2       0       1       1\n",
              "3       0       0       0"
            ],
            "text/html": [
              "\n",
              "  <div id=\"df-1ff58904-232b-483f-9515-9ac53d4f891a\">\n",
              "    <div class=\"colab-df-container\">\n",
              "      <div>\n",
              "<style scoped>\n",
              "    .dataframe tbody tr th:only-of-type {\n",
              "        vertical-align: middle;\n",
              "    }\n",
              "\n",
              "    .dataframe tbody tr th {\n",
              "        vertical-align: top;\n",
              "    }\n",
              "\n",
              "    .dataframe thead th {\n",
              "        text-align: right;\n",
              "    }\n",
              "</style>\n",
              "<table border=\"1\" class=\"dataframe\">\n",
              "  <thead>\n",
              "    <tr style=\"text-align: right;\">\n",
              "      <th></th>\n",
              "      <th>Input1</th>\n",
              "      <th>Input2</th>\n",
              "      <th>Output</th>\n",
              "    </tr>\n",
              "  </thead>\n",
              "  <tbody>\n",
              "    <tr>\n",
              "      <th>0</th>\n",
              "      <td>1</td>\n",
              "      <td>1</td>\n",
              "      <td>1</td>\n",
              "    </tr>\n",
              "    <tr>\n",
              "      <th>1</th>\n",
              "      <td>1</td>\n",
              "      <td>0</td>\n",
              "      <td>1</td>\n",
              "    </tr>\n",
              "    <tr>\n",
              "      <th>2</th>\n",
              "      <td>0</td>\n",
              "      <td>1</td>\n",
              "      <td>1</td>\n",
              "    </tr>\n",
              "    <tr>\n",
              "      <th>3</th>\n",
              "      <td>0</td>\n",
              "      <td>0</td>\n",
              "      <td>0</td>\n",
              "    </tr>\n",
              "  </tbody>\n",
              "</table>\n",
              "</div>\n",
              "      <button class=\"colab-df-convert\" onclick=\"convertToInteractive('df-1ff58904-232b-483f-9515-9ac53d4f891a')\"\n",
              "              title=\"Convert this dataframe to an interactive table.\"\n",
              "              style=\"display:none;\">\n",
              "        \n",
              "  <svg xmlns=\"http://www.w3.org/2000/svg\" height=\"24px\"viewBox=\"0 0 24 24\"\n",
              "       width=\"24px\">\n",
              "    <path d=\"M0 0h24v24H0V0z\" fill=\"none\"/>\n",
              "    <path d=\"M18.56 5.44l.94 2.06.94-2.06 2.06-.94-2.06-.94-.94-2.06-.94 2.06-2.06.94zm-11 1L8.5 8.5l.94-2.06 2.06-.94-2.06-.94L8.5 2.5l-.94 2.06-2.06.94zm10 10l.94 2.06.94-2.06 2.06-.94-2.06-.94-.94-2.06-.94 2.06-2.06.94z\"/><path d=\"M17.41 7.96l-1.37-1.37c-.4-.4-.92-.59-1.43-.59-.52 0-1.04.2-1.43.59L10.3 9.45l-7.72 7.72c-.78.78-.78 2.05 0 2.83L4 21.41c.39.39.9.59 1.41.59.51 0 1.02-.2 1.41-.59l7.78-7.78 2.81-2.81c.8-.78.8-2.07 0-2.86zM5.41 20L4 18.59l7.72-7.72 1.47 1.35L5.41 20z\"/>\n",
              "  </svg>\n",
              "      </button>\n",
              "      \n",
              "  <style>\n",
              "    .colab-df-container {\n",
              "      display:flex;\n",
              "      flex-wrap:wrap;\n",
              "      gap: 12px;\n",
              "    }\n",
              "\n",
              "    .colab-df-convert {\n",
              "      background-color: #E8F0FE;\n",
              "      border: none;\n",
              "      border-radius: 50%;\n",
              "      cursor: pointer;\n",
              "      display: none;\n",
              "      fill: #1967D2;\n",
              "      height: 32px;\n",
              "      padding: 0 0 0 0;\n",
              "      width: 32px;\n",
              "    }\n",
              "\n",
              "    .colab-df-convert:hover {\n",
              "      background-color: #E2EBFA;\n",
              "      box-shadow: 0px 1px 2px rgba(60, 64, 67, 0.3), 0px 1px 3px 1px rgba(60, 64, 67, 0.15);\n",
              "      fill: #174EA6;\n",
              "    }\n",
              "\n",
              "    [theme=dark] .colab-df-convert {\n",
              "      background-color: #3B4455;\n",
              "      fill: #D2E3FC;\n",
              "    }\n",
              "\n",
              "    [theme=dark] .colab-df-convert:hover {\n",
              "      background-color: #434B5C;\n",
              "      box-shadow: 0px 1px 3px 1px rgba(0, 0, 0, 0.15);\n",
              "      filter: drop-shadow(0px 1px 2px rgba(0, 0, 0, 0.3));\n",
              "      fill: #FFFFFF;\n",
              "    }\n",
              "  </style>\n",
              "\n",
              "      <script>\n",
              "        const buttonEl =\n",
              "          document.querySelector('#df-1ff58904-232b-483f-9515-9ac53d4f891a button.colab-df-convert');\n",
              "        buttonEl.style.display =\n",
              "          google.colab.kernel.accessAllowed ? 'block' : 'none';\n",
              "\n",
              "        async function convertToInteractive(key) {\n",
              "          const element = document.querySelector('#df-1ff58904-232b-483f-9515-9ac53d4f891a');\n",
              "          const dataTable =\n",
              "            await google.colab.kernel.invokeFunction('convertToInteractive',\n",
              "                                                     [key], {});\n",
              "          if (!dataTable) return;\n",
              "\n",
              "          const docLinkHtml = 'Like what you see? Visit the ' +\n",
              "            '<a target=\"_blank\" href=https://colab.research.google.com/notebooks/data_table.ipynb>data table notebook</a>'\n",
              "            + ' to learn more about interactive tables.';\n",
              "          element.innerHTML = '';\n",
              "          dataTable['output_type'] = 'display_data';\n",
              "          await google.colab.output.renderOutput(dataTable, element);\n",
              "          const docLink = document.createElement('div');\n",
              "          docLink.innerHTML = docLinkHtml;\n",
              "          element.appendChild(docLink);\n",
              "        }\n",
              "      </script>\n",
              "    </div>\n",
              "  </div>\n",
              "  "
            ]
          },
          "metadata": {},
          "execution_count": 30
        }
      ]
    },
    {
      "cell_type": "code",
      "source": [
        "inputs_and=df_AND.iloc[:,0:2]\n",
        "output_and=df_AND.iloc[:,2]"
      ],
      "metadata": {
        "id": "H_678rM5DGuR"
      },
      "execution_count": null,
      "outputs": []
    },
    {
      "cell_type": "markdown",
      "source": [
        "***Single layer perceptron***"
      ],
      "metadata": {
        "id": "X_CQ9XTsEFq8"
      }
    },
    {
      "cell_type": "code",
      "execution_count": null,
      "metadata": {
        "colab": {
          "base_uri": "https://localhost:8080/"
        },
        "id": "Y8HGBo6cBVR_",
        "outputId": "e07af5ce-8b97-4b5a-e8e2-d861815b2c55"
      },
      "outputs": [
        {
          "output_type": "stream",
          "name": "stdout",
          "text": [
            "AND(1,1) = 1\n",
            "AND(1,0) = 0\n",
            "AND(0,1) = 0\n",
            "AND(0,0) = 0\n"
          ]
        }
      ],
      "source": [
        "# Single layer perceptron -- AND Gate\n",
        "import numpy as np\n",
        "def unit(a):\n",
        "  if a>0:\n",
        "    return 1\n",
        "  else:\n",
        "    return 0\n",
        "\n",
        "def percep(x,w,b):\n",
        "  v=np.dot(x,w)+b\n",
        "  return unit(v)\n",
        "\n",
        "def andgate(x):\n",
        "  weight=np.array([1,1])\n",
        "  bias=-1\n",
        "  return percep(x,weight,bias)\n",
        "\n",
        "\n",
        "t1=np.array(inputs_and.iloc[0])\n",
        "t2=np.array(inputs_and.iloc[1])\n",
        "t3=np.array(inputs_and.iloc[2])\n",
        "t4=np.array(inputs_and.iloc[3])\n",
        "print('AND({},{}) = {}'.format(1,1,andgate(t1)))\n",
        "print('AND({},{}) = {}'.format(1,0,andgate(t2)))\n",
        "print('AND({},{}) = {}'.format(0,1,andgate(t3)))\n",
        "print('AND({},{}) = {}'.format(0,0,andgate(t4)))"
      ]
    },
    {
      "cell_type": "markdown",
      "source": [
        "***mcCulloch-pitts neuron***"
      ],
      "metadata": {
        "id": "EqWjXB7nC5JJ"
      }
    },
    {
      "cell_type": "code",
      "source": [
        "# McCulloch-Pitts Neuron -- AND Gate\n",
        "import numpy as np\n",
        "def func(x,v):\n",
        "  if v==len(x):\n",
        "    return 1\n",
        "  else:\n",
        "    return 0\n",
        "\n",
        "def andgate(x):\n",
        "  v=np.sum(x)\n",
        "  return func(x,v)\n",
        "\n",
        "\n",
        "t1=np.array(inputs_and.iloc[0])\n",
        "t2=np.array(inputs_and.iloc[1])\n",
        "t3=np.array(inputs_and.iloc[2])\n",
        "t4=np.array(inputs_and.iloc[3])\n",
        "print('AND({},{}) = {}'.format(1,1,andgate(t1)))\n",
        "print('AND({},{}) = {}'.format(1,0,andgate(t2)))\n",
        "print('AND({},{}) = {}'.format(0,1,andgate(t3)))\n",
        "print('AND({},{}) = {}'.format(0,0,andgate(t4)))"
      ],
      "metadata": {
        "colab": {
          "base_uri": "https://localhost:8080/"
        },
        "id": "vNu7Ghh4BoEf",
        "outputId": "d96dd670-c274-44bd-cfa5-a3403b2df668"
      },
      "execution_count": null,
      "outputs": [
        {
          "output_type": "stream",
          "name": "stdout",
          "text": [
            "AND(1,1) = 1\n",
            "AND(1,0) = 0\n",
            "AND(0,1) = 0\n",
            "AND(0,0) = 0\n"
          ]
        }
      ]
    }
  ]
}