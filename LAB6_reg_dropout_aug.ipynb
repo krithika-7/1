{
  "nbformat": 4,
  "nbformat_minor": 0,
  "metadata": {
    "colab": {
      "provenance": []
    },
    "kernelspec": {
      "name": "python3",
      "display_name": "Python 3"
    },
    "language_info": {
      "name": "python"
    }
  },
  "cells": [
    {
      "cell_type": "code",
      "execution_count": null,
      "metadata": {
        "id": "MIpB-Yc65Xud"
      },
      "outputs": [],
      "source": [
        "#importing libraries\n",
        "import tensorflow as tf\n",
        "import matplotlib.pyplot as plt\n",
        "import numpy as np"
      ]
    },
    {
      "cell_type": "code",
      "source": [
        "#Get the data\n",
        "mnist = tf.keras.datasets.mnist \n",
        "\n",
        "(x_train, y_train),(x_test, y_test) = mnist.load_data()\n",
        "\n",
        "x_train = tf.keras.utils.normalize(x_train,axis=1)\n",
        "x_test = tf.keras.utils.normalize(x_test,axis=1)"
      ],
      "metadata": {
        "id": "zbStr4LV5l5k",
        "colab": {
          "base_uri": "https://localhost:8080/"
        },
        "outputId": "87f1811c-21d9-4ccf-f3bd-6eea41f94bb5"
      },
      "execution_count": null,
      "outputs": [
        {
          "output_type": "stream",
          "name": "stdout",
          "text": [
            "Downloading data from https://storage.googleapis.com/tensorflow/tf-keras-datasets/mnist.npz\n",
            "11490434/11490434 [==============================] - 0s 0us/step\n"
          ]
        }
      ]
    },
    {
      "cell_type": "code",
      "source": [
        "#Create Neural Network\n",
        "model = tf.keras.models.Sequential()\n",
        "model.add(tf.keras.layers.Flatten())\n",
        "model.add(tf.keras.layers.Dense(128,activation = tf.nn.relu))\n",
        "model.add(tf.keras.layers.Dense(128,activation = tf.nn.relu))\n",
        "model.add(tf.keras.layers.Dense(10,activation = tf.nn.softmax))"
      ],
      "metadata": {
        "id": "JtgV_EQp5wC_"
      },
      "execution_count": null,
      "outputs": []
    },
    {
      "cell_type": "code",
      "source": [
        "model.compile(optimizer='adam', loss='sparse_categorical_crossentropy',metrics=['accuracy'])"
      ],
      "metadata": {
        "id": "JuKQK0a657wA"
      },
      "execution_count": null,
      "outputs": []
    },
    {
      "cell_type": "code",
      "source": [
        "model.fit(x_train,y_train,epochs=50) "
      ],
      "metadata": {
        "colab": {
          "base_uri": "https://localhost:8080/"
        },
        "id": "TtvYVNJW6lcI",
        "outputId": "18cc951f-400a-48ca-afaa-2a66ec25a483"
      },
      "execution_count": null,
      "outputs": [
        {
          "output_type": "stream",
          "name": "stdout",
          "text": [
            "Epoch 1/50\n",
            "1875/1875 [==============================] - 7s 3ms/step - loss: 0.2656 - accuracy: 0.9221\n",
            "Epoch 2/50\n",
            "1875/1875 [==============================] - 6s 3ms/step - loss: 0.1083 - accuracy: 0.9659\n",
            "Epoch 3/50\n",
            "1875/1875 [==============================] - 6s 3ms/step - loss: 0.0730 - accuracy: 0.9771\n",
            "Epoch 4/50\n",
            "1875/1875 [==============================] - 6s 3ms/step - loss: 0.0541 - accuracy: 0.9828\n",
            "Epoch 5/50\n",
            "1875/1875 [==============================] - 6s 3ms/step - loss: 0.0398 - accuracy: 0.9869\n",
            "Epoch 6/50\n",
            "1875/1875 [==============================] - 6s 3ms/step - loss: 0.0308 - accuracy: 0.9898\n",
            "Epoch 7/50\n",
            "1875/1875 [==============================] - 6s 3ms/step - loss: 0.0259 - accuracy: 0.9909\n",
            "Epoch 8/50\n",
            "1875/1875 [==============================] - 6s 3ms/step - loss: 0.0214 - accuracy: 0.9926\n",
            "Epoch 9/50\n",
            "1875/1875 [==============================] - 6s 3ms/step - loss: 0.0174 - accuracy: 0.9944\n",
            "Epoch 10/50\n",
            "1875/1875 [==============================] - 6s 3ms/step - loss: 0.0150 - accuracy: 0.9948\n",
            "Epoch 11/50\n",
            "1875/1875 [==============================] - 7s 4ms/step - loss: 0.0152 - accuracy: 0.9945\n",
            "Epoch 12/50\n",
            "1875/1875 [==============================] - 6s 3ms/step - loss: 0.0117 - accuracy: 0.9962\n",
            "Epoch 13/50\n",
            "1875/1875 [==============================] - 6s 3ms/step - loss: 0.0095 - accuracy: 0.9969\n",
            "Epoch 14/50\n",
            "1875/1875 [==============================] - 6s 3ms/step - loss: 0.0114 - accuracy: 0.9963\n",
            "Epoch 15/50\n",
            "1875/1875 [==============================] - 6s 3ms/step - loss: 0.0102 - accuracy: 0.9962\n",
            "Epoch 16/50\n",
            "1875/1875 [==============================] - 6s 3ms/step - loss: 0.0086 - accuracy: 0.9972\n",
            "Epoch 17/50\n",
            "1875/1875 [==============================] - 6s 3ms/step - loss: 0.0092 - accuracy: 0.9971\n",
            "Epoch 18/50\n",
            "1875/1875 [==============================] - 6s 3ms/step - loss: 0.0088 - accuracy: 0.9972\n",
            "Epoch 19/50\n",
            "1875/1875 [==============================] - 6s 3ms/step - loss: 0.0082 - accuracy: 0.9973\n",
            "Epoch 20/50\n",
            "1875/1875 [==============================] - 6s 3ms/step - loss: 0.0089 - accuracy: 0.9972\n",
            "Epoch 21/50\n",
            "1875/1875 [==============================] - 6s 3ms/step - loss: 0.0062 - accuracy: 0.9979\n",
            "Epoch 22/50\n",
            "1875/1875 [==============================] - 6s 3ms/step - loss: 0.0078 - accuracy: 0.9975\n",
            "Epoch 23/50\n",
            "1875/1875 [==============================] - 6s 3ms/step - loss: 0.0077 - accuracy: 0.9975\n",
            "Epoch 24/50\n",
            "1875/1875 [==============================] - 6s 3ms/step - loss: 0.0052 - accuracy: 0.9982\n",
            "Epoch 25/50\n",
            "1875/1875 [==============================] - 6s 3ms/step - loss: 0.0066 - accuracy: 0.9979\n",
            "Epoch 26/50\n",
            "1875/1875 [==============================] - 6s 3ms/step - loss: 0.0062 - accuracy: 0.9981\n",
            "Epoch 27/50\n",
            "1875/1875 [==============================] - 7s 4ms/step - loss: 0.0050 - accuracy: 0.9983\n",
            "Epoch 28/50\n",
            "1875/1875 [==============================] - 6s 3ms/step - loss: 0.0062 - accuracy: 0.9980\n",
            "Epoch 29/50\n",
            "1875/1875 [==============================] - 6s 3ms/step - loss: 0.0053 - accuracy: 0.9984\n",
            "Epoch 30/50\n",
            "1875/1875 [==============================] - 6s 3ms/step - loss: 0.0065 - accuracy: 0.9981\n",
            "Epoch 31/50\n",
            "1875/1875 [==============================] - 6s 3ms/step - loss: 0.0048 - accuracy: 0.9985\n",
            "Epoch 32/50\n",
            "1875/1875 [==============================] - 6s 3ms/step - loss: 0.0069 - accuracy: 0.9980\n",
            "Epoch 33/50\n",
            "1875/1875 [==============================] - 6s 3ms/step - loss: 0.0053 - accuracy: 0.9984\n",
            "Epoch 34/50\n",
            "1875/1875 [==============================] - 6s 3ms/step - loss: 0.0053 - accuracy: 0.9982\n",
            "Epoch 35/50\n",
            "1875/1875 [==============================] - 6s 3ms/step - loss: 0.0062 - accuracy: 0.9981\n",
            "Epoch 36/50\n",
            "1875/1875 [==============================] - 6s 3ms/step - loss: 0.0053 - accuracy: 0.9984\n",
            "Epoch 37/50\n",
            "1875/1875 [==============================] - 6s 3ms/step - loss: 0.0037 - accuracy: 0.9987\n",
            "Epoch 38/50\n",
            "1875/1875 [==============================] - 6s 3ms/step - loss: 0.0063 - accuracy: 0.9980\n",
            "Epoch 39/50\n",
            "1875/1875 [==============================] - 6s 3ms/step - loss: 0.0043 - accuracy: 0.9986\n",
            "Epoch 40/50\n",
            "1875/1875 [==============================] - 6s 3ms/step - loss: 0.0036 - accuracy: 0.9988\n",
            "Epoch 41/50\n",
            "1875/1875 [==============================] - 6s 3ms/step - loss: 0.0074 - accuracy: 0.9980\n",
            "Epoch 42/50\n",
            "1875/1875 [==============================] - 6s 3ms/step - loss: 0.0045 - accuracy: 0.9987\n",
            "Epoch 43/50\n",
            "1875/1875 [==============================] - 6s 3ms/step - loss: 0.0050 - accuracy: 0.9985\n",
            "Epoch 44/50\n",
            "1875/1875 [==============================] - 6s 3ms/step - loss: 0.0054 - accuracy: 0.9984\n",
            "Epoch 45/50\n",
            "1875/1875 [==============================] - 6s 3ms/step - loss: 0.0059 - accuracy: 0.9985\n",
            "Epoch 46/50\n",
            "1875/1875 [==============================] - 7s 3ms/step - loss: 0.0043 - accuracy: 0.9987\n",
            "Epoch 47/50\n",
            "1875/1875 [==============================] - 6s 3ms/step - loss: 0.0040 - accuracy: 0.9988\n",
            "Epoch 48/50\n",
            "1875/1875 [==============================] - 6s 3ms/step - loss: 0.0049 - accuracy: 0.9986\n",
            "Epoch 49/50\n",
            "1875/1875 [==============================] - 6s 3ms/step - loss: 0.0039 - accuracy: 0.9990\n",
            "Epoch 50/50\n",
            "1875/1875 [==============================] - 6s 3ms/step - loss: 0.0035 - accuracy: 0.9989\n"
          ]
        },
        {
          "output_type": "execute_result",
          "data": {
            "text/plain": [
              "<keras.callbacks.History at 0x7fdca485b1d0>"
            ]
          },
          "metadata": {},
          "execution_count": 5
        }
      ]
    },
    {
      "cell_type": "code",
      "source": [
        "#Show the loss and accuracy.\n",
        "val_loss,val_acc = model.evaluate(x_test,y_test)\n",
        "print(val_loss,val_acc)\n",
        "\n",
        "model.save('num_reader.model.h5')"
      ],
      "metadata": {
        "colab": {
          "base_uri": "https://localhost:8080/"
        },
        "id": "c3fcmANx78L1",
        "outputId": "641e39d0-19bc-4691-d54c-ada7dcb08372"
      },
      "execution_count": null,
      "outputs": [
        {
          "output_type": "stream",
          "name": "stdout",
          "text": [
            "313/313 [==============================] - 1s 3ms/step - loss: 0.2049 - accuracy: 0.9768\n",
            "0.20490026473999023 0.9768000245094299\n"
          ]
        }
      ]
    },
    {
      "cell_type": "code",
      "source": [
        "new_model = tf.keras.models.load_model('/content/num_reader.model.h5')\n",
        "predictions = new_model.predict([x_test])"
      ],
      "metadata": {
        "id": "oAuUencn8CQN",
        "colab": {
          "base_uri": "https://localhost:8080/"
        },
        "outputId": "4d811955-dbcb-4fa9-fef6-c9b4a4684570"
      },
      "execution_count": null,
      "outputs": [
        {
          "output_type": "stream",
          "name": "stdout",
          "text": [
            "313/313 [==============================] - 1s 2ms/step\n"
          ]
        }
      ]
    },
    {
      "cell_type": "code",
      "source": [
        "print(\"The number is : \",np.argmax(predictions[11])) \n",
        "\n",
        "#Show the image\n",
        "plt.imshow(x_test[11]) \n",
        "plt.show()"
      ],
      "metadata": {
        "colab": {
          "base_uri": "https://localhost:8080/"
        },
        "id": "dhfgjhfC8EWP",
        "outputId": "52d78b90-bd1c-4587-fdd6-1f033210ede3"
      },
      "execution_count": null,
      "outputs": [
        {
          "output_type": "stream",
          "name": "stdout",
          "text": [
            "The number is :  6\n"
          ]
        },
        {
          "output_type": "display_data",
          "data": {
            "text/plain": [
              "<Figure size 432x288 with 1 Axes>"
            ],
            "image/png": "[encoded data removed]"
          },
          "metadata": {
            "needs_background": "light"
          }
        }
      ]
    },
    {
      "cell_type": "markdown",
      "source": [
        "Regularization technique"
      ],
      "metadata": {
        "id": "F6ssSnsz8Q6A"
      }
    },
    {
      "cell_type": "code",
      "source": [
        "#Create Neural Network\n",
        "model = tf.keras.models.Sequential()\n",
        "model.add(tf.keras.layers.Flatten())\n",
        "model.add(tf.keras.layers.Dense(128,activation = tf.nn.relu,activity_regularizer=tf.keras.regularizers.L2(0.01)))\n",
        "model.add(tf.keras.layers.Dense(128,activation = tf.nn.relu,activity_regularizer=tf.keras.regularizers.L2(0.01)))\n",
        "model.add(tf.keras.layers.Dense(10,activation = tf.nn.softmax))"
      ],
      "metadata": {
        "id": "ffkoeAz88Mka"
      },
      "execution_count": null,
      "outputs": []
    },
    {
      "cell_type": "code",
      "source": [
        "model.compile(optimizer='adam', loss='sparse_categorical_crossentropy',metrics=['accuracy'])"
      ],
      "metadata": {
        "id": "PRZXorS98TmS"
      },
      "execution_count": null,
      "outputs": []
    },
    {
      "cell_type": "code",
      "source": [
        "model.fit(x_train,y_train,epochs=50) "
      ],
      "metadata": {
        "colab": {
          "base_uri": "https://localhost:8080/"
        },
        "id": "FA7XPxJS8Yqi",
        "outputId": "34ffb4ce-3232-4fb1-d53b-724bb1ae3c64"
      },
      "execution_count": null,
      "outputs": [
        {
          "output_type": "stream",
          "name": "stdout",
          "text": [
            "Epoch 1/50\n",
            "1875/1875 [==============================] - 6s 3ms/step - loss: 0.3816 - accuracy: 0.9328\n",
            "Epoch 2/50\n",
            "1875/1875 [==============================] - 6s 3ms/step - loss: 0.1643 - accuracy: 0.9721\n",
            "Epoch 3/50\n",
            "1875/1875 [==============================] - 6s 3ms/step - loss: 0.1202 - accuracy: 0.9807\n",
            "Epoch 4/50\n",
            "1875/1875 [==============================] - 6s 3ms/step - loss: 0.0983 - accuracy: 0.9840\n",
            "Epoch 5/50\n",
            "1875/1875 [==============================] - 6s 3ms/step - loss: 0.0843 - accuracy: 0.9865\n",
            "Epoch 6/50\n",
            "1875/1875 [==============================] - 6s 3ms/step - loss: 0.0748 - accuracy: 0.9887\n",
            "Epoch 7/50\n",
            "1875/1875 [==============================] - 6s 3ms/step - loss: 0.0677 - accuracy: 0.9898\n",
            "Epoch 8/50\n",
            "1875/1875 [==============================] - 6s 3ms/step - loss: 0.0626 - accuracy: 0.9911\n",
            "Epoch 9/50\n",
            "1875/1875 [==============================] - 7s 4ms/step - loss: 0.0602 - accuracy: 0.9912\n",
            "Epoch 10/50\n",
            "1875/1875 [==============================] - 6s 3ms/step - loss: 0.0545 - accuracy: 0.9926\n",
            "Epoch 11/50\n",
            "1875/1875 [==============================] - 6s 3ms/step - loss: 0.0540 - accuracy: 0.9927\n",
            "Epoch 12/50\n",
            "1875/1875 [==============================] - 6s 3ms/step - loss: 0.0495 - accuracy: 0.9936\n",
            "Epoch 13/50\n",
            "1875/1875 [==============================] - 6s 3ms/step - loss: 0.0486 - accuracy: 0.9936\n",
            "Epoch 14/50\n",
            "1875/1875 [==============================] - 7s 3ms/step - loss: 0.0508 - accuracy: 0.9929\n",
            "Epoch 15/50\n",
            "1875/1875 [==============================] - 6s 3ms/step - loss: 0.0457 - accuracy: 0.9942\n",
            "Epoch 16/50\n",
            "1875/1875 [==============================] - 6s 3ms/step - loss: 0.0454 - accuracy: 0.9944\n",
            "Epoch 17/50\n",
            "1875/1875 [==============================] - 6s 3ms/step - loss: 0.0434 - accuracy: 0.9948\n",
            "Epoch 18/50\n",
            "1875/1875 [==============================] - 5s 3ms/step - loss: 0.0432 - accuracy: 0.9946\n",
            "Epoch 19/50\n",
            "1875/1875 [==============================] - 6s 3ms/step - loss: 0.0431 - accuracy: 0.9947\n",
            "Epoch 20/50\n",
            "1875/1875 [==============================] - 6s 3ms/step - loss: 0.0458 - accuracy: 0.9941\n",
            "Epoch 21/50\n",
            "1875/1875 [==============================] - 6s 3ms/step - loss: 0.0423 - accuracy: 0.9952\n",
            "Epoch 22/50\n",
            "1875/1875 [==============================] - 6s 3ms/step - loss: 0.0419 - accuracy: 0.9949\n",
            "Epoch 23/50\n",
            "1875/1875 [==============================] - 6s 3ms/step - loss: 0.0408 - accuracy: 0.9950\n",
            "Epoch 24/50\n",
            "1875/1875 [==============================] - 6s 3ms/step - loss: 0.0391 - accuracy: 0.9956\n",
            "Epoch 25/50\n",
            "1875/1875 [==============================] - 6s 3ms/step - loss: 0.0423 - accuracy: 0.9946\n",
            "Epoch 26/50\n",
            "1875/1875 [==============================] - 6s 3ms/step - loss: 0.0420 - accuracy: 0.9946\n",
            "Epoch 27/50\n",
            "1875/1875 [==============================] - 6s 3ms/step - loss: 0.0392 - accuracy: 0.9954\n",
            "Epoch 28/50\n",
            "1875/1875 [==============================] - 6s 3ms/step - loss: 0.0395 - accuracy: 0.9951\n",
            "Epoch 29/50\n",
            "1875/1875 [==============================] - 6s 3ms/step - loss: 0.0396 - accuracy: 0.9954\n",
            "Epoch 30/50\n",
            "1875/1875 [==============================] - 6s 3ms/step - loss: 0.0388 - accuracy: 0.9952\n",
            "Epoch 31/50\n",
            "1875/1875 [==============================] - 6s 3ms/step - loss: 0.0401 - accuracy: 0.9952\n",
            "Epoch 32/50\n",
            "1875/1875 [==============================] - 6s 3ms/step - loss: 0.0395 - accuracy: 0.9954\n",
            "Epoch 33/50\n",
            "1875/1875 [==============================] - 6s 3ms/step - loss: 0.0393 - accuracy: 0.9956\n",
            "Epoch 34/50\n",
            "1875/1875 [==============================] - 6s 3ms/step - loss: 0.0390 - accuracy: 0.9953\n",
            "Epoch 35/50\n",
            "1875/1875 [==============================] - 6s 3ms/step - loss: 0.0408 - accuracy: 0.9955\n",
            "Epoch 36/50\n",
            "1875/1875 [==============================] - 6s 3ms/step - loss: 0.0392 - accuracy: 0.9955\n",
            "Epoch 37/50\n",
            "1875/1875 [==============================] - 6s 3ms/step - loss: 0.0392 - accuracy: 0.9958\n",
            "Epoch 38/50\n",
            "1875/1875 [==============================] - 6s 3ms/step - loss: 0.0406 - accuracy: 0.9955\n",
            "Epoch 39/50\n",
            "1875/1875 [==============================] - 6s 3ms/step - loss: 0.0400 - accuracy: 0.9951\n",
            "Epoch 40/50\n",
            "1875/1875 [==============================] - 6s 3ms/step - loss: 0.0410 - accuracy: 0.9952\n",
            "Epoch 41/50\n",
            "1875/1875 [==============================] - 6s 3ms/step - loss: 0.0396 - accuracy: 0.9957\n",
            "Epoch 42/50\n",
            "1875/1875 [==============================] - 6s 3ms/step - loss: 0.0403 - accuracy: 0.9956\n",
            "Epoch 43/50\n",
            "1875/1875 [==============================] - 6s 3ms/step - loss: 0.0406 - accuracy: 0.9955\n",
            "Epoch 44/50\n",
            "1875/1875 [==============================] - 6s 3ms/step - loss: 0.0422 - accuracy: 0.9952\n",
            "Epoch 45/50\n",
            "1875/1875 [==============================] - 6s 3ms/step - loss: 0.0393 - accuracy: 0.9958\n",
            "Epoch 46/50\n",
            "1875/1875 [==============================] - 6s 3ms/step - loss: 0.0417 - accuracy: 0.9949\n",
            "Epoch 47/50\n",
            "1875/1875 [==============================] - 6s 3ms/step - loss: 0.0416 - accuracy: 0.9951\n",
            "Epoch 48/50\n",
            "1875/1875 [==============================] - 6s 3ms/step - loss: 0.0421 - accuracy: 0.9954\n",
            "Epoch 49/50\n",
            "1875/1875 [==============================] - 6s 3ms/step - loss: 0.0420 - accuracy: 0.9951\n",
            "Epoch 50/50\n",
            "1875/1875 [==============================] - 6s 3ms/step - loss: 0.0431 - accuracy: 0.9951\n"
          ]
        },
        {
          "output_type": "execute_result",
          "data": {
            "text/plain": [
              "<keras.callbacks.History at 0x7f284fa9f710>"
            ]
          },
          "metadata": {},
          "execution_count": 13
        }
      ]
    },
    {
      "cell_type": "code",
      "source": [
        "#Show the loss and accuracy.\n",
        "val_loss,val_acc = model.evaluate(x_test,y_test)\n",
        "print(val_loss,val_acc)\n",
        "\n",
        "model.save('epic_num_reader_regularizer.model.h5')"
      ],
      "metadata": {
        "colab": {
          "base_uri": "https://localhost:8080/"
        },
        "id": "B05R_paX-FOy",
        "outputId": "997b9ed6-1a88-46d8-a4de-3684f8c98fac"
      },
      "execution_count": null,
      "outputs": [
        {
          "output_type": "stream",
          "name": "stdout",
          "text": [
            "313/313 [==============================] - 1s 2ms/step - loss: 0.2219 - accuracy: 0.9560\n",
            "0.22193703055381775 0.9559999704360962\n"
          ]
        }
      ]
    },
    {
      "cell_type": "code",
      "source": [
        "new_model = tf.keras.models.load_model('/content/epic_num_reader_regularizer.model.h5')\n",
        "predictions = new_model.predict([x_test])"
      ],
      "metadata": {
        "id": "LLo7iRFQ-Rpa"
      },
      "execution_count": null,
      "outputs": []
    },
    {
      "cell_type": "code",
      "source": [
        "print(\"The number is : \",np.argmax(predictions[11])) \n",
        "\n",
        "#Show the image\n",
        "plt.imshow(x_test[11]) \n",
        "plt.show()"
      ],
      "metadata": {
        "colab": {
          "base_uri": "https://localhost:8080/",
          "height": 282
        },
        "id": "fBVZHR8P-VwI",
        "outputId": "55aab9d6-f997-46c9-83c1-3ecd409c5fa8"
      },
      "execution_count": null,
      "outputs": [
        {
          "output_type": "stream",
          "name": "stdout",
          "text": [
            "The number is :  6\n"
          ]
        },
        {
          "output_type": "display_data",
          "data": {
            "text/plain": [
              "<Figure size 432x288 with 1 Axes>"
            ],
            "image/png": "[encoded data removed]"
          },
          "metadata": {
            "needs_background": "light"
          }
        }
      ]
    },
    {
      "cell_type": "markdown",
      "source": [
        "Dropout"
      ],
      "metadata": {
        "id": "SiXhEMJE-cfY"
      }
    },
    {
      "cell_type": "code",
      "source": [
        "#Create Neural Network\n",
        "model = tf.keras.models.Sequential()\n",
        "model.add(tf.keras.layers.Flatten())\n",
        "model.add(tf.keras.layers.Dense(128,activation = tf.nn.relu))\n",
        "model.add(tf.keras.layers.Dropout(0.5))\n",
        "model.add(tf.keras.layers.Dense(128,activation = tf.nn.relu))\n",
        "model.add(tf.keras.layers.Dropout(0.5))\n",
        "model.add(tf.keras.layers.Dense(10,activation = tf.nn.softmax))"
      ],
      "metadata": {
        "id": "HruIHdum-ZtS"
      },
      "execution_count": null,
      "outputs": []
    },
    {
      "cell_type": "code",
      "source": [
        "model.compile(optimizer='adam', loss='sparse_categorical_crossentropy',metrics=['accuracy'])"
      ],
      "metadata": {
        "id": "YGT-AeiB-d6K"
      },
      "execution_count": null,
      "outputs": []
    },
    {
      "cell_type": "code",
      "source": [
        "model.fit(x_train,y_train,epochs=50) "
      ],
      "metadata": {
        "colab": {
          "base_uri": "https://localhost:8080/"
        },
        "id": "nY3soWh1-hrw",
        "outputId": "17c043ed-6357-4f95-94fb-240a6bbc4677"
      },
      "execution_count": null,
      "outputs": [
        {
          "output_type": "stream",
          "name": "stdout",
          "text": [
            "Epoch 1/50\n",
            "1875/1875 [==============================] - 7s 3ms/step - loss: 0.5077 - accuracy: 0.8433\n",
            "Epoch 2/50\n",
            "1875/1875 [==============================] - 6s 3ms/step - loss: 0.2732 - accuracy: 0.9215\n",
            "Epoch 3/50\n",
            "1875/1875 [==============================] - 6s 3ms/step - loss: 0.2240 - accuracy: 0.9354\n",
            "Epoch 4/50\n",
            "1875/1875 [==============================] - 6s 3ms/step - loss: 0.2002 - accuracy: 0.9412\n",
            "Epoch 5/50\n",
            "1875/1875 [==============================] - 6s 3ms/step - loss: 0.1840 - accuracy: 0.9462\n",
            "Epoch 6/50\n",
            "1875/1875 [==============================] - 6s 3ms/step - loss: 0.1741 - accuracy: 0.9496\n",
            "Epoch 7/50\n",
            "1875/1875 [==============================] - 6s 3ms/step - loss: 0.1665 - accuracy: 0.9518\n",
            "Epoch 8/50\n",
            "1875/1875 [==============================] - 7s 4ms/step - loss: 0.1572 - accuracy: 0.9536\n",
            "Epoch 9/50\n",
            "1875/1875 [==============================] - 6s 3ms/step - loss: 0.1465 - accuracy: 0.9569\n",
            "Epoch 10/50\n",
            "1875/1875 [==============================] - 6s 3ms/step - loss: 0.1429 - accuracy: 0.9573\n",
            "Epoch 11/50\n",
            "1875/1875 [==============================] - 7s 4ms/step - loss: 0.1442 - accuracy: 0.9574\n",
            "Epoch 12/50\n",
            "1875/1875 [==============================] - 6s 3ms/step - loss: 0.1376 - accuracy: 0.9596\n",
            "Epoch 13/50\n",
            "1875/1875 [==============================] - 6s 3ms/step - loss: 0.1340 - accuracy: 0.9607\n",
            "Epoch 14/50\n",
            "1875/1875 [==============================] - 6s 3ms/step - loss: 0.1279 - accuracy: 0.9619\n",
            "Epoch 15/50\n",
            "1875/1875 [==============================] - 6s 3ms/step - loss: 0.1259 - accuracy: 0.9614\n",
            "Epoch 16/50\n",
            "1875/1875 [==============================] - 6s 3ms/step - loss: 0.1229 - accuracy: 0.9628\n",
            "Epoch 17/50\n",
            "1875/1875 [==============================] - 6s 3ms/step - loss: 0.1231 - accuracy: 0.9633\n",
            "Epoch 18/50\n",
            "1875/1875 [==============================] - 6s 3ms/step - loss: 0.1201 - accuracy: 0.9638\n",
            "Epoch 19/50\n",
            "1875/1875 [==============================] - 6s 3ms/step - loss: 0.1175 - accuracy: 0.9645\n",
            "Epoch 20/50\n",
            "1875/1875 [==============================] - 6s 3ms/step - loss: 0.1179 - accuracy: 0.9645\n",
            "Epoch 21/50\n",
            "1875/1875 [==============================] - 6s 3ms/step - loss: 0.1183 - accuracy: 0.9650\n",
            "Epoch 22/50\n",
            "1875/1875 [==============================] - 6s 3ms/step - loss: 0.1118 - accuracy: 0.9669\n",
            "Epoch 23/50\n",
            "1875/1875 [==============================] - 6s 3ms/step - loss: 0.1117 - accuracy: 0.9665\n",
            "Epoch 24/50\n",
            "1875/1875 [==============================] - 6s 3ms/step - loss: 0.1100 - accuracy: 0.9675\n",
            "Epoch 25/50\n",
            "1875/1875 [==============================] - 6s 3ms/step - loss: 0.1082 - accuracy: 0.9676\n",
            "Epoch 26/50\n",
            "1875/1875 [==============================] - 6s 3ms/step - loss: 0.1103 - accuracy: 0.9663\n",
            "Epoch 27/50\n",
            "1875/1875 [==============================] - 6s 3ms/step - loss: 0.1049 - accuracy: 0.9690\n",
            "Epoch 28/50\n",
            "1875/1875 [==============================] - 6s 3ms/step - loss: 0.1075 - accuracy: 0.9677\n",
            "Epoch 29/50\n",
            "1875/1875 [==============================] - 6s 3ms/step - loss: 0.1062 - accuracy: 0.9691\n",
            "Epoch 30/50\n",
            "1875/1875 [==============================] - 6s 3ms/step - loss: 0.1025 - accuracy: 0.9691\n",
            "Epoch 31/50\n",
            "1875/1875 [==============================] - 7s 4ms/step - loss: 0.1013 - accuracy: 0.9692\n",
            "Epoch 32/50\n",
            "1875/1875 [==============================] - 7s 4ms/step - loss: 0.1009 - accuracy: 0.9702\n",
            "Epoch 33/50\n",
            "1875/1875 [==============================] - 7s 4ms/step - loss: 0.1002 - accuracy: 0.9695\n",
            "Epoch 34/50\n",
            "1875/1875 [==============================] - 6s 3ms/step - loss: 0.0955 - accuracy: 0.9710\n",
            "Epoch 35/50\n",
            "1875/1875 [==============================] - 6s 3ms/step - loss: 0.0955 - accuracy: 0.9713\n",
            "Epoch 36/50\n",
            "1875/1875 [==============================] - 6s 3ms/step - loss: 0.0962 - accuracy: 0.9707\n",
            "Epoch 37/50\n",
            "1875/1875 [==============================] - 6s 3ms/step - loss: 0.0946 - accuracy: 0.9711\n",
            "Epoch 38/50\n",
            "1875/1875 [==============================] - 6s 3ms/step - loss: 0.0931 - accuracy: 0.9720\n",
            "Epoch 39/50\n",
            "1875/1875 [==============================] - 6s 3ms/step - loss: 0.0946 - accuracy: 0.9715\n",
            "Epoch 40/50\n",
            "1875/1875 [==============================] - 6s 3ms/step - loss: 0.0941 - accuracy: 0.9716\n",
            "Epoch 41/50\n",
            "1875/1875 [==============================] - 6s 3ms/step - loss: 0.0954 - accuracy: 0.9719\n",
            "Epoch 42/50\n",
            "1875/1875 [==============================] - 7s 4ms/step - loss: 0.0947 - accuracy: 0.9715\n",
            "Epoch 43/50\n",
            "1875/1875 [==============================] - 6s 3ms/step - loss: 0.0890 - accuracy: 0.9735\n",
            "Epoch 44/50\n",
            "1875/1875 [==============================] - 7s 3ms/step - loss: 0.0938 - accuracy: 0.9717\n",
            "Epoch 45/50\n",
            "1875/1875 [==============================] - 6s 3ms/step - loss: 0.0894 - accuracy: 0.9729\n",
            "Epoch 46/50\n",
            "1875/1875 [==============================] - 6s 3ms/step - loss: 0.0919 - accuracy: 0.9724\n",
            "Epoch 47/50\n",
            "1875/1875 [==============================] - 6s 3ms/step - loss: 0.0903 - accuracy: 0.9723\n",
            "Epoch 48/50\n",
            "1875/1875 [==============================] - 6s 3ms/step - loss: 0.0907 - accuracy: 0.9730\n",
            "Epoch 49/50\n",
            "1875/1875 [==============================] - 6s 3ms/step - loss: 0.0898 - accuracy: 0.9733\n",
            "Epoch 50/50\n",
            "1875/1875 [==============================] - 6s 3ms/step - loss: 0.0887 - accuracy: 0.9733\n"
          ]
        },
        {
          "output_type": "execute_result",
          "data": {
            "text/plain": [
              "<keras.callbacks.History at 0x7f284bf44290>"
            ]
          },
          "metadata": {},
          "execution_count": 20
        }
      ]
    },
    {
      "cell_type": "code",
      "source": [
        "#Show the loss and accuracy.\n",
        "val_loss,val_acc = model.evaluate(x_test,y_test)\n",
        "print(val_loss,val_acc)\n",
        "\n",
        "model.save('epic_num_reader_dropout.model.h5')"
      ],
      "metadata": {
        "colab": {
          "base_uri": "https://localhost:8080/"
        },
        "id": "n4j8TXonBTRO",
        "outputId": "c90b37cd-ebad-4c49-c832-0ae359c0f1b1"
      },
      "execution_count": null,
      "outputs": [
        {
          "output_type": "stream",
          "name": "stdout",
          "text": [
            "313/313 [==============================] - 1s 3ms/step - loss: 0.1085 - accuracy: 0.9775\n",
            "0.10849117487668991 0.9775000214576721\n"
          ]
        }
      ]
    },
    {
      "cell_type": "code",
      "source": [
        "new_model = tf.keras.models.load_model('/content/epic_num_reader_dropout.model.h5')\n",
        "predictions = new_model.predict([x_test])"
      ],
      "metadata": {
        "id": "4utXSz3QCEff"
      },
      "execution_count": null,
      "outputs": []
    },
    {
      "cell_type": "code",
      "source": [
        "print(\"The number is : \",np.argmax(predictions[11])) \n",
        "\n",
        "#Show the image\n",
        "plt.imshow(x_test[11]) \n",
        "plt.show()"
      ],
      "metadata": {
        "colab": {
          "base_uri": "https://localhost:8080/",
          "height": 282
        },
        "id": "vVw-UVskCHE8",
        "outputId": "47c5608b-6810-40ed-ec2e-69d1d6654517"
      },
      "execution_count": null,
      "outputs": [
        {
          "output_type": "stream",
          "name": "stdout",
          "text": [
            "The number is :  6\n"
          ]
        },
        {
          "output_type": "display_data",
          "data": {
            "text/plain": [
              "<Figure size 432x288 with 1 Axes>"
            ],
            "image/png": "[encoded data removed]"
          },
          "metadata": {
            "needs_background": "light"
          }
        }
      ]
    },
    {
      "cell_type": "markdown",
      "source": [
        "Early Stopping"
      ],
      "metadata": {
        "id": "SoA2MibiJ707"
      }
    },
    {
      "cell_type": "code",
      "source": [
        "#Create Neural Network\n",
        "model = tf.keras.models.Sequential()\n",
        "model.add(tf.keras.layers.Flatten())\n",
        "model.add(tf.keras.layers.Dense(128,activation = tf.nn.relu))\n",
        "model.add(tf.keras.layers.Dense(128,activation = tf.nn.relu))\n",
        "model.add(tf.keras.layers.Dense(10,activation = tf.nn.softmax))"
      ],
      "metadata": {
        "id": "2C_6n1_2CSMi"
      },
      "execution_count": null,
      "outputs": []
    },
    {
      "cell_type": "code",
      "source": [
        "model.compile(optimizer='adam', loss='sparse_categorical_crossentropy',metrics=['accuracy'])"
      ],
      "metadata": {
        "id": "FYWs2ksZKuC-"
      },
      "execution_count": null,
      "outputs": []
    },
    {
      "cell_type": "code",
      "source": [
        "callback = tf.keras.callbacks.EarlyStopping(monitor='loss', patience=2)"
      ],
      "metadata": {
        "id": "MS0RBnFzK02_"
      },
      "execution_count": null,
      "outputs": []
    },
    {
      "cell_type": "code",
      "source": [
        "model.fit(x_train,y_train,epochs=50,callbacks=[callback]) "
      ],
      "metadata": {
        "colab": {
          "base_uri": "https://localhost:8080/"
        },
        "id": "XqEFVFwfLQtI",
        "outputId": "96c0df31-4fb1-4dd7-f62d-d9ec9148c628"
      },
      "execution_count": null,
      "outputs": [
        {
          "output_type": "stream",
          "name": "stdout",
          "text": [
            "Epoch 1/50\n",
            "1875/1875 [==============================] - 8s 4ms/step - loss: 0.2632 - accuracy: 0.9222\n",
            "Epoch 2/50\n",
            "1875/1875 [==============================] - 6s 3ms/step - loss: 0.1064 - accuracy: 0.9667\n",
            "Epoch 3/50\n",
            "1875/1875 [==============================] - 6s 3ms/step - loss: 0.0731 - accuracy: 0.9765\n",
            "Epoch 4/50\n",
            "1875/1875 [==============================] - 7s 4ms/step - loss: 0.0528 - accuracy: 0.9828\n",
            "Epoch 5/50\n",
            "1875/1875 [==============================] - 6s 3ms/step - loss: 0.0405 - accuracy: 0.9866\n",
            "Epoch 6/50\n",
            "1875/1875 [==============================] - 6s 3ms/step - loss: 0.0317 - accuracy: 0.9897\n",
            "Epoch 7/50\n",
            "1875/1875 [==============================] - 5s 3ms/step - loss: 0.0259 - accuracy: 0.9912\n",
            "Epoch 8/50\n",
            "1875/1875 [==============================] - 6s 3ms/step - loss: 0.0204 - accuracy: 0.9933\n",
            "Epoch 9/50\n",
            "1875/1875 [==============================] - 6s 3ms/step - loss: 0.0163 - accuracy: 0.9946\n",
            "Epoch 10/50\n",
            "1875/1875 [==============================] - 6s 3ms/step - loss: 0.0150 - accuracy: 0.9946\n",
            "Epoch 11/50\n",
            "1875/1875 [==============================] - 6s 3ms/step - loss: 0.0136 - accuracy: 0.9950\n",
            "Epoch 12/50\n",
            "1875/1875 [==============================] - 6s 3ms/step - loss: 0.0127 - accuracy: 0.9956\n",
            "Epoch 13/50\n",
            "1875/1875 [==============================] - 6s 3ms/step - loss: 0.0127 - accuracy: 0.9958\n",
            "Epoch 14/50\n",
            "1875/1875 [==============================] - 6s 3ms/step - loss: 0.0086 - accuracy: 0.9972\n",
            "Epoch 15/50\n",
            "1875/1875 [==============================] - 6s 3ms/step - loss: 0.0093 - accuracy: 0.9964\n",
            "Epoch 16/50\n",
            "1875/1875 [==============================] - 6s 3ms/step - loss: 0.0090 - accuracy: 0.9973\n"
          ]
        },
        {
          "output_type": "execute_result",
          "data": {
            "text/plain": [
              "<keras.callbacks.History at 0x7f284bde2b10>"
            ]
          },
          "metadata": {},
          "execution_count": 30
        }
      ]
    },
    {
      "cell_type": "code",
      "source": [
        "#Show the loss and accuracy.\n",
        "val_loss,val_acc = model.evaluate(x_test,y_test)\n",
        "print(val_loss,val_acc)\n",
        "\n",
        "model.save('epic_num_reader_early_stopping.model.h5')"
      ],
      "metadata": {
        "colab": {
          "base_uri": "https://localhost:8080/"
        },
        "id": "3jyJlZoAMACy",
        "outputId": "87420377-4853-4d5d-9cca-59f5fe41a7b6"
      },
      "execution_count": null,
      "outputs": [
        {
          "output_type": "stream",
          "name": "stdout",
          "text": [
            "313/313 [==============================] - 1s 2ms/step - loss: 0.1648 - accuracy: 0.9706\n",
            "0.16478832066059113 0.9706000089645386\n"
          ]
        }
      ]
    },
    {
      "cell_type": "code",
      "source": [
        "new_model = tf.keras.models.load_model('/content/epic_num_reader_early_stopping.model.h5')\n",
        "predictions = new_model.predict([x_test])"
      ],
      "metadata": {
        "id": "J_km-IAWMVze"
      },
      "execution_count": null,
      "outputs": []
    },
    {
      "cell_type": "code",
      "source": [
        "print(\"The number is : \",np.argmax(predictions[11])) \n",
        "\n",
        "#Show the image\n",
        "plt.imshow(x_test[11]) \n",
        "plt.show()"
      ],
      "metadata": {
        "colab": {
          "base_uri": "https://localhost:8080/",
          "height": 282
        },
        "id": "fHhl7gh3Ma3B",
        "outputId": "678dd02b-086b-442f-b76f-d34780db1896"
      },
      "execution_count": null,
      "outputs": [
        {
          "output_type": "stream",
          "name": "stdout",
          "text": [
            "The number is :  6\n"
          ]
        },
        {
          "output_type": "display_data",
          "data": {
            "text/plain": [
              "<Figure size 432x288 with 1 Axes>"
            ],
            "image/png": "[encoded data removed]"
          },
          "metadata": {
            "needs_background": "light"
          }
        }
      ]
    },
    {
      "cell_type": "markdown",
      "source": [
        "Augmentation"
      ],
      "metadata": {
        "id": "pRz9Tx4BMpGv"
      }
    },
    {
      "cell_type": "code",
      "source": [
        "mnist = tf.keras.datasets.mnist #Get the data\n",
        "\n",
        "(x_train, y_train),(x_test, y_test) = mnist.load_data()\n",
        "\n",
        "x_train = tf.keras.utils.normalize(x_train,axis=1)\n",
        "x_test = tf.keras.utils.normalize(x_test,axis=1)"
      ],
      "metadata": {
        "id": "Lz8tQsTIMka_"
      },
      "execution_count": null,
      "outputs": []
    },
    {
      "cell_type": "code",
      "source": [
        "image_size = x_train.shape[1]\n",
        "input_size = image_size * image_size\n",
        "batch_size = 128\n",
        "hidden_units = 256\n",
        "epochs = 20\n",
        "max_batches = len(x_train) / batch_size"
      ],
      "metadata": {
        "id": "HknjFdd_Mr2B"
      },
      "execution_count": null,
      "outputs": []
    },
    {
      "cell_type": "code",
      "source": [
        "from keras.preprocessing.image import ImageDataGenerator"
      ],
      "metadata": {
        "id": "E8O78BO4Muhu"
      },
      "execution_count": null,
      "outputs": []
    },
    {
      "cell_type": "code",
      "source": [
        "rotation_range_val = 30\n",
        "datagen = ImageDataGenerator(rotation_range=rotation_range_val)\n",
        "# fit the generator\n",
        "datagen.fit(x_train.reshape(x_train.shape[0], 28, 28, 1))\n",
        "# define number of rows & columns\n",
        "num_row = 2\n",
        "num_col = 8\n",
        "num= num_row*num_col\n",
        "# plot before\n",
        "print('BEFORE:\\n')\n",
        "# plot images\n",
        "fig1, axes1 = plt.subplots(num_row, num_col, figsize=(1.5*num_col,2*num_row))\n",
        "for i in range(num):\n",
        "     ax = axes1[i//num_col, i%num_col]\n",
        "     ax.imshow(x_train[i], cmap='gray_r')\n",
        "     ax.set_title('Label: {}'.format(y_train[i]))\n",
        "plt.tight_layout()\n",
        "plt.show()\n",
        "# plot after\n",
        "print('AFTER:\\n')\n",
        "fig2, axes2 = plt.subplots(num_row, num_col, figsize=(1.5*num_col,2*num_row))\n",
        "for X, Y in datagen.flow(x_train.reshape(x_train.shape[0], 28, 28, 1),y_train.reshape(y_train.shape[0], 1),batch_size=num,shuffle=False):\n",
        "     for i in range(0, num):\n",
        "          ax = axes2[i//num_col, i%num_col]\n",
        "          ax.imshow(X[i].reshape(28,28), cmap='gray_r')\n",
        "          ax.set_title('Label: {}'.format(int(Y[i])))\n",
        "     break\n",
        "plt.tight_layout()\n",
        "plt.show()"
      ],
      "metadata": {
        "colab": {
          "base_uri": "https://localhost:8080/",
          "height": 610
        },
        "id": "ffP-QV7lMyKo",
        "outputId": "b3522279-675b-454e-8b6c-66429d54b09f"
      },
      "execution_count": null,
      "outputs": [
        {
          "output_type": "stream",
          "name": "stdout",
          "text": [
            "BEFORE:\n",
            "\n"
          ]
        },
        {
          "output_type": "display_data",
          "data": {
            "text/plain": [
              "<Figure size 864x288 with 16 Axes>"
            ],
            "image/png": "[encoded data removed]"
          },
          "metadata": {
            "needs_background": "light"
          }
        },
        {
          "output_type": "stream",
          "name": "stdout",
          "text": [
            "AFTER:\n",
            "\n"
          ]
        },
        {
          "output_type": "display_data",
          "data": {
            "text/plain": [
              "<Figure size 864x288 with 16 Axes>"
            ],
            "image/png": "[encoded data removed]"
          },
          "metadata": {
            "needs_background": "light"
          }
        }
      ]
    },
    {
      "cell_type": "code",
      "source": [
        "#Create Neural Network\n",
        "model = tf.keras.models.Sequential()\n",
        "model.add(tf.keras.layers.Flatten())\n",
        "model.add(tf.keras.layers.Dense(128,activation = tf.nn.relu))\n",
        "model.add(tf.keras.layers.Dense(128,activation = tf.nn.relu))\n",
        "model.add(tf.keras.layers.Dense(10,activation = tf.nn.softmax))"
      ],
      "metadata": {
        "id": "dFhvTzwIMyHH"
      },
      "execution_count": null,
      "outputs": []
    },
    {
      "cell_type": "code",
      "source": [
        "model.compile(optimizer='adam', loss='sparse_categorical_crossentropy',metrics=['accuracy'])"
      ],
      "metadata": {
        "id": "qBNKHyEgNDtQ"
      },
      "execution_count": null,
      "outputs": []
    },
    {
      "cell_type": "code",
      "source": [
        "model.fit(X,Y,epochs=500) "
      ],
      "metadata": {
        "colab": {
          "base_uri": "https://localhost:8080/"
        },
        "id": "BVRlPOBoNIpv",
        "outputId": "658cc1b7-a651-4527-f706-b993cc326bfc"
      },
      "execution_count": null,
      "outputs": [
        {
          "output_type": "stream",
          "name": "stdout",
          "text": [
            "Epoch 1/500\n",
            "1/1 [==============================] - 0s 389ms/step - loss: 2.3009 - accuracy: 0.0625\n",
            "Epoch 2/500\n",
            "1/1 [==============================] - 0s 10ms/step - loss: 2.1908 - accuracy: 0.5625\n",
            "Epoch 3/500\n",
            "1/1 [==============================] - 0s 7ms/step - loss: 2.0899 - accuracy: 0.8750\n",
            "Epoch 4/500\n",
            "1/1 [==============================] - 0s 8ms/step - loss: 1.9956 - accuracy: 0.8750\n",
            "Epoch 5/500\n",
            "1/1 [==============================] - 0s 8ms/step - loss: 1.9022 - accuracy: 0.9375\n",
            "Epoch 6/500\n",
            "1/1 [==============================] - 0s 8ms/step - loss: 1.8052 - accuracy: 0.9375\n",
            "Epoch 7/500\n",
            "1/1 [==============================] - 0s 8ms/step - loss: 1.7036 - accuracy: 0.9375\n",
            "Epoch 8/500\n",
            "1/1 [==============================] - 0s 9ms/step - loss: 1.5966 - accuracy: 0.9375\n",
            "Epoch 9/500\n",
            "1/1 [==============================] - 0s 9ms/step - loss: 1.4862 - accuracy: 1.0000\n",
            "Epoch 10/500\n",
            "1/1 [==============================] - 0s 9ms/step - loss: 1.3724 - accuracy: 1.0000\n",
            "Epoch 11/500\n",
            "1/1 [==============================] - 0s 9ms/step - loss: 1.2566 - accuracy: 1.0000\n",
            "Epoch 12/500\n",
            "1/1 [==============================] - 0s 9ms/step - loss: 1.1401 - accuracy: 1.0000\n",
            "Epoch 13/500\n",
            "1/1 [==============================] - 0s 10ms/step - loss: 1.0239 - accuracy: 1.0000\n",
            "Epoch 14/500\n",
            "1/1 [==============================] - 0s 9ms/step - loss: 0.9105 - accuracy: 1.0000\n",
            "Epoch 15/500\n",
            "1/1 [==============================] - 0s 16ms/step - loss: 0.8013 - accuracy: 1.0000\n",
            "Epoch 16/500\n",
            "1/1 [==============================] - 0s 9ms/step - loss: 0.6970 - accuracy: 1.0000\n",
            "Epoch 17/500\n",
            "1/1 [==============================] - 0s 9ms/step - loss: 0.5991 - accuracy: 1.0000\n",
            "Epoch 18/500\n",
            "1/1 [==============================] - 0s 13ms/step - loss: 0.5090 - accuracy: 1.0000\n",
            "Epoch 19/500\n",
            "1/1 [==============================] - 0s 10ms/step - loss: 0.4276 - accuracy: 1.0000\n",
            "Epoch 20/500\n",
            "1/1 [==============================] - 0s 9ms/step - loss: 0.3550 - accuracy: 1.0000\n",
            "Epoch 21/500\n",
            "1/1 [==============================] - 0s 9ms/step - loss: 0.2917 - accuracy: 1.0000\n",
            "Epoch 22/500\n",
            "1/1 [==============================] - 0s 10ms/step - loss: 0.2374 - accuracy: 1.0000\n",
            "Epoch 23/500\n",
            "1/1 [==============================] - 0s 9ms/step - loss: 0.1917 - accuracy: 1.0000\n",
            "Epoch 24/500\n",
            "1/1 [==============================] - 0s 14ms/step - loss: 0.1541 - accuracy: 1.0000\n",
            "Epoch 25/500\n",
            "1/1 [==============================] - 0s 9ms/step - loss: 0.1235 - accuracy: 1.0000\n",
            "Epoch 26/500\n",
            "1/1 [==============================] - 0s 9ms/step - loss: 0.0990 - accuracy: 1.0000\n",
            "Epoch 27/500\n",
            "1/1 [==============================] - 0s 12ms/step - loss: 0.0797 - accuracy: 1.0000\n",
            "Epoch 28/500\n",
            "1/1 [==============================] - 0s 9ms/step - loss: 0.0643 - accuracy: 1.0000\n",
            "Epoch 29/500\n",
            "1/1 [==============================] - 0s 9ms/step - loss: 0.0522 - accuracy: 1.0000\n",
            "Epoch 30/500\n",
            "1/1 [==============================] - 0s 9ms/step - loss: 0.0426 - accuracy: 1.0000\n",
            "Epoch 31/500\n",
            "1/1 [==============================] - 0s 9ms/step - loss: 0.0349 - accuracy: 1.0000\n",
            "Epoch 32/500\n",
            "1/1 [==============================] - 0s 10ms/step - loss: 0.0288 - accuracy: 1.0000\n",
            "Epoch 33/500\n",
            "1/1 [==============================] - 0s 9ms/step - loss: 0.0240 - accuracy: 1.0000\n",
            "Epoch 34/500\n",
            "1/1 [==============================] - 0s 10ms/step - loss: 0.0201 - accuracy: 1.0000\n",
            "Epoch 35/500\n",
            "1/1 [==============================] - 0s 9ms/step - loss: 0.0170 - accuracy: 1.0000\n",
            "Epoch 36/500\n",
            "1/1 [==============================] - 0s 10ms/step - loss: 0.0145 - accuracy: 1.0000\n",
            "Epoch 37/500\n",
            "1/1 [==============================] - 0s 9ms/step - loss: 0.0124 - accuracy: 1.0000\n",
            "Epoch 38/500\n",
            "1/1 [==============================] - 0s 9ms/step - loss: 0.0108 - accuracy: 1.0000\n",
            "Epoch 39/500\n",
            "1/1 [==============================] - 0s 10ms/step - loss: 0.0094 - accuracy: 1.0000\n",
            "Epoch 40/500\n",
            "1/1 [==============================] - 0s 10ms/step - loss: 0.0083 - accuracy: 1.0000\n",
            "Epoch 41/500\n",
            "1/1 [==============================] - 0s 9ms/step - loss: 0.0074 - accuracy: 1.0000\n",
            "Epoch 42/500\n",
            "1/1 [==============================] - 0s 11ms/step - loss: 0.0066 - accuracy: 1.0000\n",
            "Epoch 43/500\n",
            "1/1 [==============================] - 0s 15ms/step - loss: 0.0059 - accuracy: 1.0000\n",
            "Epoch 44/500\n",
            "1/1 [==============================] - 0s 9ms/step - loss: 0.0054 - accuracy: 1.0000\n",
            "Epoch 45/500\n",
            "1/1 [==============================] - 0s 9ms/step - loss: 0.0049 - accuracy: 1.0000\n",
            "Epoch 46/500\n",
            "1/1 [==============================] - 0s 9ms/step - loss: 0.0045 - accuracy: 1.0000\n",
            "Epoch 47/500\n",
            "1/1 [==============================] - 0s 9ms/step - loss: 0.0042 - accuracy: 1.0000\n",
            "Epoch 48/500\n",
            "1/1 [==============================] - 0s 10ms/step - loss: 0.0039 - accuracy: 1.0000\n",
            "Epoch 49/500\n",
            "1/1 [==============================] - 0s 10ms/step - loss: 0.0036 - accuracy: 1.0000\n",
            "Epoch 50/500\n",
            "1/1 [==============================] - 0s 10ms/step - loss: 0.0034 - accuracy: 1.0000\n",
            "Epoch 51/500\n",
            "1/1 [==============================] - 0s 10ms/step - loss: 0.0032 - accuracy: 1.0000\n",
            "Epoch 52/500\n",
            "1/1 [==============================] - 0s 13ms/step - loss: 0.0030 - accuracy: 1.0000\n",
            "Epoch 53/500\n",
            "1/1 [==============================] - 0s 9ms/step - loss: 0.0028 - accuracy: 1.0000\n",
            "Epoch 54/500\n",
            "1/1 [==============================] - 0s 9ms/step - loss: 0.0027 - accuracy: 1.0000\n",
            "Epoch 55/500\n",
            "1/1 [==============================] - 0s 9ms/step - loss: 0.0026 - accuracy: 1.0000\n",
            "Epoch 56/500\n",
            "1/1 [==============================] - 0s 9ms/step - loss: 0.0025 - accuracy: 1.0000\n",
            "Epoch 57/500\n",
            "1/1 [==============================] - 0s 9ms/step - loss: 0.0024 - accuracy: 1.0000\n",
            "Epoch 58/500\n",
            "1/1 [==============================] - 0s 9ms/step - loss: 0.0023 - accuracy: 1.0000\n",
            "Epoch 59/500\n",
            "1/1 [==============================] - 0s 9ms/step - loss: 0.0022 - accuracy: 1.0000\n",
            "Epoch 60/500\n",
            "1/1 [==============================] - 0s 10ms/step - loss: 0.0021 - accuracy: 1.0000\n",
            "Epoch 61/500\n",
            "1/1 [==============================] - 0s 10ms/step - loss: 0.0020 - accuracy: 1.0000\n",
            "Epoch 62/500\n",
            "1/1 [==============================] - 0s 15ms/step - loss: 0.0020 - accuracy: 1.0000\n",
            "Epoch 63/500\n",
            "1/1 [==============================] - 0s 10ms/step - loss: 0.0019 - accuracy: 1.0000\n",
            "Epoch 64/500\n",
            "1/1 [==============================] - 0s 9ms/step - loss: 0.0019 - accuracy: 1.0000\n",
            "Epoch 65/500\n",
            "1/1 [==============================] - 0s 9ms/step - loss: 0.0018 - accuracy: 1.0000\n",
            "Epoch 66/500\n",
            "1/1 [==============================] - 0s 9ms/step - loss: 0.0018 - accuracy: 1.0000\n",
            "Epoch 67/500\n",
            "1/1 [==============================] - 0s 9ms/step - loss: 0.0017 - accuracy: 1.0000\n",
            "Epoch 68/500\n",
            "1/1 [==============================] - 0s 9ms/step - loss: 0.0017 - accuracy: 1.0000\n",
            "Epoch 69/500\n",
            "1/1 [==============================] - 0s 9ms/step - loss: 0.0017 - accuracy: 1.0000\n",
            "Epoch 70/500\n",
            "1/1 [==============================] - 0s 9ms/step - loss: 0.0016 - accuracy: 1.0000\n",
            "Epoch 71/500\n",
            "1/1 [==============================] - 0s 9ms/step - loss: 0.0016 - accuracy: 1.0000\n",
            "Epoch 72/500\n",
            "1/1 [==============================] - 0s 9ms/step - loss: 0.0016 - accuracy: 1.0000\n",
            "Epoch 73/500\n",
            "1/1 [==============================] - 0s 9ms/step - loss: 0.0015 - accuracy: 1.0000\n",
            "Epoch 74/500\n",
            "1/1 [==============================] - 0s 9ms/step - loss: 0.0015 - accuracy: 1.0000\n",
            "Epoch 75/500\n",
            "1/1 [==============================] - 0s 9ms/step - loss: 0.0015 - accuracy: 1.0000\n",
            "Epoch 76/500\n",
            "1/1 [==============================] - 0s 9ms/step - loss: 0.0015 - accuracy: 1.0000\n",
            "Epoch 77/500\n",
            "1/1 [==============================] - 0s 9ms/step - loss: 0.0014 - accuracy: 1.0000\n",
            "Epoch 78/500\n",
            "1/1 [==============================] - 0s 9ms/step - loss: 0.0014 - accuracy: 1.0000\n",
            "Epoch 79/500\n",
            "1/1 [==============================] - 0s 9ms/step - loss: 0.0014 - accuracy: 1.0000\n",
            "Epoch 80/500\n",
            "1/1 [==============================] - 0s 10ms/step - loss: 0.0014 - accuracy: 1.0000\n",
            "Epoch 81/500\n",
            "1/1 [==============================] - 0s 10ms/step - loss: 0.0014 - accuracy: 1.0000\n",
            "Epoch 82/500\n",
            "1/1 [==============================] - 0s 9ms/step - loss: 0.0014 - accuracy: 1.0000\n",
            "Epoch 83/500\n",
            "1/1 [==============================] - 0s 9ms/step - loss: 0.0013 - accuracy: 1.0000\n",
            "Epoch 84/500\n",
            "1/1 [==============================] - 0s 9ms/step - loss: 0.0013 - accuracy: 1.0000\n",
            "Epoch 85/500\n",
            "1/1 [==============================] - 0s 9ms/step - loss: 0.0013 - accuracy: 1.0000\n",
            "Epoch 86/500\n",
            "1/1 [==============================] - 0s 9ms/step - loss: 0.0013 - accuracy: 1.0000\n",
            "Epoch 87/500\n",
            "1/1 [==============================] - 0s 9ms/step - loss: 0.0013 - accuracy: 1.0000\n",
            "Epoch 88/500\n",
            "1/1 [==============================] - 0s 8ms/step - loss: 0.0013 - accuracy: 1.0000\n",
            "Epoch 89/500\n",
            "1/1 [==============================] - 0s 9ms/step - loss: 0.0012 - accuracy: 1.0000\n",
            "Epoch 90/500\n",
            "1/1 [==============================] - 0s 9ms/step - loss: 0.0012 - accuracy: 1.0000\n",
            "Epoch 91/500\n",
            "1/1 [==============================] - 0s 9ms/step - loss: 0.0012 - accuracy: 1.0000\n",
            "Epoch 92/500\n",
            "1/1 [==============================] - 0s 9ms/step - loss: 0.0012 - accuracy: 1.0000\n",
            "Epoch 93/500\n",
            "1/1 [==============================] - 0s 9ms/step - loss: 0.0012 - accuracy: 1.0000\n",
            "Epoch 94/500\n",
            "1/1 [==============================] - 0s 9ms/step - loss: 0.0012 - accuracy: 1.0000\n",
            "Epoch 95/500\n",
            "1/1 [==============================] - 0s 9ms/step - loss: 0.0012 - accuracy: 1.0000\n",
            "Epoch 96/500\n",
            "1/1 [==============================] - 0s 9ms/step - loss: 0.0012 - accuracy: 1.0000\n",
            "Epoch 97/500\n",
            "1/1 [==============================] - 0s 9ms/step - loss: 0.0011 - accuracy: 1.0000\n",
            "Epoch 98/500\n",
            "1/1 [==============================] - 0s 9ms/step - loss: 0.0011 - accuracy: 1.0000\n",
            "Epoch 99/500\n",
            "1/1 [==============================] - 0s 9ms/step - loss: 0.0011 - accuracy: 1.0000\n",
            "Epoch 100/500\n",
            "1/1 [==============================] - 0s 9ms/step - loss: 0.0011 - accuracy: 1.0000\n",
            "Epoch 101/500\n",
            "1/1 [==============================] - 0s 8ms/step - loss: 0.0011 - accuracy: 1.0000\n",
            "Epoch 102/500\n",
            "1/1 [==============================] - 0s 9ms/step - loss: 0.0011 - accuracy: 1.0000\n",
            "Epoch 103/500\n",
            "1/1 [==============================] - 0s 9ms/step - loss: 0.0011 - accuracy: 1.0000\n",
            "Epoch 104/500\n",
            "1/1 [==============================] - 0s 9ms/step - loss: 0.0011 - accuracy: 1.0000\n",
            "Epoch 105/500\n",
            "1/1 [==============================] - 0s 10ms/step - loss: 0.0011 - accuracy: 1.0000\n",
            "Epoch 106/500\n",
            "1/1 [==============================] - 0s 10ms/step - loss: 0.0011 - accuracy: 1.0000\n",
            "Epoch 107/500\n",
            "1/1 [==============================] - 0s 9ms/step - loss: 0.0010 - accuracy: 1.0000\n",
            "Epoch 108/500\n",
            "1/1 [==============================] - 0s 10ms/step - loss: 0.0010 - accuracy: 1.0000\n",
            "Epoch 109/500\n",
            "1/1 [==============================] - 0s 9ms/step - loss: 0.0010 - accuracy: 1.0000\n",
            "Epoch 110/500\n",
            "1/1 [==============================] - 0s 9ms/step - loss: 0.0010 - accuracy: 1.0000\n",
            "Epoch 111/500\n",
            "1/1 [==============================] - 0s 9ms/step - loss: 0.0010 - accuracy: 1.0000\n",
            "Epoch 112/500\n",
            "1/1 [==============================] - 0s 9ms/step - loss: 9.9918e-04 - accuracy: 1.0000\n",
            "Epoch 113/500\n",
            "1/1 [==============================] - 0s 10ms/step - loss: 9.9057e-04 - accuracy: 1.0000\n",
            "Epoch 114/500\n",
            "1/1 [==============================] - 0s 9ms/step - loss: 9.8206e-04 - accuracy: 1.0000\n",
            "Epoch 115/500\n",
            "1/1 [==============================] - 0s 9ms/step - loss: 9.7367e-04 - accuracy: 1.0000\n",
            "Epoch 116/500\n",
            "1/1 [==============================] - 0s 9ms/step - loss: 9.6542e-04 - accuracy: 1.0000\n",
            "Epoch 117/500\n",
            "1/1 [==============================] - 0s 10ms/step - loss: 9.5723e-04 - accuracy: 1.0000\n",
            "Epoch 118/500\n",
            "1/1 [==============================] - 0s 11ms/step - loss: 9.4909e-04 - accuracy: 1.0000\n",
            "Epoch 119/500\n",
            "1/1 [==============================] - 0s 9ms/step - loss: 9.4114e-04 - accuracy: 1.0000\n",
            "Epoch 120/500\n",
            "1/1 [==============================] - 0s 9ms/step - loss: 9.3326e-04 - accuracy: 1.0000\n",
            "Epoch 121/500\n",
            "1/1 [==============================] - 0s 9ms/step - loss: 9.2551e-04 - accuracy: 1.0000\n",
            "Epoch 122/500\n",
            "1/1 [==============================] - 0s 9ms/step - loss: 9.1779e-04 - accuracy: 1.0000\n",
            "Epoch 123/500\n",
            "1/1 [==============================] - 0s 11ms/step - loss: 9.1028e-04 - accuracy: 1.0000\n",
            "Epoch 124/500\n",
            "1/1 [==============================] - 0s 11ms/step - loss: 9.0281e-04 - accuracy: 1.0000\n",
            "Epoch 125/500\n",
            "1/1 [==============================] - 0s 13ms/step - loss: 8.9539e-04 - accuracy: 1.0000\n",
            "Epoch 126/500\n",
            "1/1 [==============================] - 0s 11ms/step - loss: 8.8812e-04 - accuracy: 1.0000\n",
            "Epoch 127/500\n",
            "1/1 [==============================] - 0s 15ms/step - loss: 8.8088e-04 - accuracy: 1.0000\n",
            "Epoch 128/500\n",
            "1/1 [==============================] - 0s 10ms/step - loss: 8.7374e-04 - accuracy: 1.0000\n",
            "Epoch 129/500\n",
            "1/1 [==============================] - 0s 8ms/step - loss: 8.6669e-04 - accuracy: 1.0000\n",
            "Epoch 130/500\n",
            "1/1 [==============================] - 0s 9ms/step - loss: 8.5973e-04 - accuracy: 1.0000\n",
            "Epoch 131/500\n",
            "1/1 [==============================] - 0s 9ms/step - loss: 8.5284e-04 - accuracy: 1.0000\n",
            "Epoch 132/500\n",
            "1/1 [==============================] - 0s 9ms/step - loss: 8.4603e-04 - accuracy: 1.0000\n",
            "Epoch 133/500\n",
            "1/1 [==============================] - 0s 9ms/step - loss: 8.3934e-04 - accuracy: 1.0000\n",
            "Epoch 134/500\n",
            "1/1 [==============================] - 0s 9ms/step - loss: 8.3274e-04 - accuracy: 1.0000\n",
            "Epoch 135/500\n",
            "1/1 [==============================] - 0s 8ms/step - loss: 8.2619e-04 - accuracy: 1.0000\n",
            "Epoch 136/500\n",
            "1/1 [==============================] - 0s 9ms/step - loss: 8.1971e-04 - accuracy: 1.0000\n",
            "Epoch 137/500\n",
            "1/1 [==============================] - 0s 9ms/step - loss: 8.1329e-04 - accuracy: 1.0000\n",
            "Epoch 138/500\n",
            "1/1 [==============================] - 0s 8ms/step - loss: 8.0696e-04 - accuracy: 1.0000\n",
            "Epoch 139/500\n",
            "1/1 [==============================] - 0s 7ms/step - loss: 8.0068e-04 - accuracy: 1.0000\n",
            "Epoch 140/500\n",
            "1/1 [==============================] - 0s 152ms/step - loss: 7.9449e-04 - accuracy: 1.0000\n",
            "Epoch 141/500\n",
            "1/1 [==============================] - 0s 8ms/step - loss: 7.8837e-04 - accuracy: 1.0000\n",
            "Epoch 142/500\n",
            "1/1 [==============================] - 0s 9ms/step - loss: 7.8235e-04 - accuracy: 1.0000\n",
            "Epoch 143/500\n",
            "1/1 [==============================] - 0s 9ms/step - loss: 7.7638e-04 - accuracy: 1.0000\n",
            "Epoch 144/500\n",
            "1/1 [==============================] - 0s 10ms/step - loss: 7.7047e-04 - accuracy: 1.0000\n",
            "Epoch 145/500\n",
            "1/1 [==============================] - 0s 9ms/step - loss: 7.6464e-04 - accuracy: 1.0000\n",
            "Epoch 146/500\n",
            "1/1 [==============================] - 0s 10ms/step - loss: 7.5883e-04 - accuracy: 1.0000\n",
            "Epoch 147/500\n",
            "1/1 [==============================] - 0s 10ms/step - loss: 7.5309e-04 - accuracy: 1.0000\n",
            "Epoch 148/500\n",
            "1/1 [==============================] - 0s 9ms/step - loss: 7.4740e-04 - accuracy: 1.0000\n",
            "Epoch 149/500\n",
            "1/1 [==============================] - 0s 10ms/step - loss: 7.4180e-04 - accuracy: 1.0000\n",
            "Epoch 150/500\n",
            "1/1 [==============================] - 0s 11ms/step - loss: 7.3622e-04 - accuracy: 1.0000\n",
            "Epoch 151/500\n",
            "1/1 [==============================] - 0s 9ms/step - loss: 7.3075e-04 - accuracy: 1.0000\n",
            "Epoch 152/500\n",
            "1/1 [==============================] - 0s 13ms/step - loss: 7.2531e-04 - accuracy: 1.0000\n",
            "Epoch 153/500\n",
            "1/1 [==============================] - 0s 11ms/step - loss: 7.1992e-04 - accuracy: 1.0000\n",
            "Epoch 154/500\n",
            "1/1 [==============================] - 0s 11ms/step - loss: 7.1463e-04 - accuracy: 1.0000\n",
            "Epoch 155/500\n",
            "1/1 [==============================] - 0s 9ms/step - loss: 7.0933e-04 - accuracy: 1.0000\n",
            "Epoch 156/500\n",
            "1/1 [==============================] - 0s 10ms/step - loss: 7.0414e-04 - accuracy: 1.0000\n",
            "Epoch 157/500\n",
            "1/1 [==============================] - 0s 12ms/step - loss: 6.9896e-04 - accuracy: 1.0000\n",
            "Epoch 158/500\n",
            "1/1 [==============================] - 0s 10ms/step - loss: 6.9383e-04 - accuracy: 1.0000\n",
            "Epoch 159/500\n",
            "1/1 [==============================] - 0s 12ms/step - loss: 6.8877e-04 - accuracy: 1.0000\n",
            "Epoch 160/500\n",
            "1/1 [==============================] - 0s 9ms/step - loss: 6.8373e-04 - accuracy: 1.0000\n",
            "Epoch 161/500\n",
            "1/1 [==============================] - 0s 9ms/step - loss: 6.7875e-04 - accuracy: 1.0000\n",
            "Epoch 162/500\n",
            "1/1 [==============================] - 0s 9ms/step - loss: 6.7379e-04 - accuracy: 1.0000\n",
            "Epoch 163/500\n",
            "1/1 [==============================] - 0s 9ms/step - loss: 6.6890e-04 - accuracy: 1.0000\n",
            "Epoch 164/500\n",
            "1/1 [==============================] - 0s 9ms/step - loss: 6.6410e-04 - accuracy: 1.0000\n",
            "Epoch 165/500\n",
            "1/1 [==============================] - 0s 9ms/step - loss: 6.5928e-04 - accuracy: 1.0000\n",
            "Epoch 166/500\n",
            "1/1 [==============================] - 0s 9ms/step - loss: 6.5453e-04 - accuracy: 1.0000\n",
            "Epoch 167/500\n",
            "1/1 [==============================] - 0s 10ms/step - loss: 6.4981e-04 - accuracy: 1.0000\n",
            "Epoch 168/500\n",
            "1/1 [==============================] - 0s 9ms/step - loss: 6.4514e-04 - accuracy: 1.0000\n",
            "Epoch 169/500\n",
            "1/1 [==============================] - 0s 9ms/step - loss: 6.4055e-04 - accuracy: 1.0000\n",
            "Epoch 170/500\n",
            "1/1 [==============================] - 0s 11ms/step - loss: 6.3599e-04 - accuracy: 1.0000\n",
            "Epoch 171/500\n",
            "1/1 [==============================] - 0s 11ms/step - loss: 6.3148e-04 - accuracy: 1.0000\n",
            "Epoch 172/500\n",
            "1/1 [==============================] - 0s 12ms/step - loss: 6.2702e-04 - accuracy: 1.0000\n",
            "Epoch 173/500\n",
            "1/1 [==============================] - 0s 13ms/step - loss: 6.2258e-04 - accuracy: 1.0000\n",
            "Epoch 174/500\n",
            "1/1 [==============================] - 0s 10ms/step - loss: 6.1821e-04 - accuracy: 1.0000\n",
            "Epoch 175/500\n",
            "1/1 [==============================] - 0s 9ms/step - loss: 6.1383e-04 - accuracy: 1.0000\n",
            "Epoch 176/500\n",
            "1/1 [==============================] - 0s 13ms/step - loss: 6.0953e-04 - accuracy: 1.0000\n",
            "Epoch 177/500\n",
            "1/1 [==============================] - 0s 12ms/step - loss: 6.0530e-04 - accuracy: 1.0000\n",
            "Epoch 178/500\n",
            "1/1 [==============================] - 0s 13ms/step - loss: 6.0108e-04 - accuracy: 1.0000\n",
            "Epoch 179/500\n",
            "1/1 [==============================] - 0s 12ms/step - loss: 5.9692e-04 - accuracy: 1.0000\n",
            "Epoch 180/500\n",
            "1/1 [==============================] - 0s 10ms/step - loss: 5.9277e-04 - accuracy: 1.0000\n",
            "Epoch 181/500\n",
            "1/1 [==============================] - 0s 7ms/step - loss: 5.8867e-04 - accuracy: 1.0000\n",
            "Epoch 182/500\n",
            "1/1 [==============================] - 0s 7ms/step - loss: 5.8460e-04 - accuracy: 1.0000\n",
            "Epoch 183/500\n",
            "1/1 [==============================] - 0s 7ms/step - loss: 5.8061e-04 - accuracy: 1.0000\n",
            "Epoch 184/500\n",
            "1/1 [==============================] - 0s 7ms/step - loss: 5.7665e-04 - accuracy: 1.0000\n",
            "Epoch 185/500\n",
            "1/1 [==============================] - 0s 8ms/step - loss: 5.7272e-04 - accuracy: 1.0000\n",
            "Epoch 186/500\n",
            "1/1 [==============================] - 0s 8ms/step - loss: 5.6880e-04 - accuracy: 1.0000\n",
            "Epoch 187/500\n",
            "1/1 [==============================] - 0s 8ms/step - loss: 5.6495e-04 - accuracy: 1.0000\n",
            "Epoch 188/500\n",
            "1/1 [==============================] - 0s 7ms/step - loss: 5.6111e-04 - accuracy: 1.0000\n",
            "Epoch 189/500\n",
            "1/1 [==============================] - 0s 7ms/step - loss: 5.5731e-04 - accuracy: 1.0000\n",
            "Epoch 190/500\n",
            "1/1 [==============================] - 0s 7ms/step - loss: 5.5355e-04 - accuracy: 1.0000\n",
            "Epoch 191/500\n",
            "1/1 [==============================] - 0s 9ms/step - loss: 5.4982e-04 - accuracy: 1.0000\n",
            "Epoch 192/500\n",
            "1/1 [==============================] - 0s 7ms/step - loss: 5.4619e-04 - accuracy: 1.0000\n",
            "Epoch 193/500\n",
            "1/1 [==============================] - 0s 9ms/step - loss: 5.4256e-04 - accuracy: 1.0000\n",
            "Epoch 194/500\n",
            "1/1 [==============================] - 0s 9ms/step - loss: 5.3894e-04 - accuracy: 1.0000\n",
            "Epoch 195/500\n",
            "1/1 [==============================] - 0s 10ms/step - loss: 5.3538e-04 - accuracy: 1.0000\n",
            "Epoch 196/500\n",
            "1/1 [==============================] - 0s 8ms/step - loss: 5.3184e-04 - accuracy: 1.0000\n",
            "Epoch 197/500\n",
            "1/1 [==============================] - 0s 9ms/step - loss: 5.2834e-04 - accuracy: 1.0000\n",
            "Epoch 198/500\n",
            "1/1 [==============================] - 0s 7ms/step - loss: 5.2485e-04 - accuracy: 1.0000\n",
            "Epoch 199/500\n",
            "1/1 [==============================] - 0s 8ms/step - loss: 5.2142e-04 - accuracy: 1.0000\n",
            "Epoch 200/500\n",
            "1/1 [==============================] - 0s 9ms/step - loss: 5.1800e-04 - accuracy: 1.0000\n",
            "Epoch 201/500\n",
            "1/1 [==============================] - 0s 7ms/step - loss: 5.1465e-04 - accuracy: 1.0000\n",
            "Epoch 202/500\n",
            "1/1 [==============================] - 0s 8ms/step - loss: 5.1128e-04 - accuracy: 1.0000\n",
            "Epoch 203/500\n",
            "1/1 [==============================] - 0s 8ms/step - loss: 5.0797e-04 - accuracy: 1.0000\n",
            "Epoch 204/500\n",
            "1/1 [==============================] - 0s 8ms/step - loss: 5.0470e-04 - accuracy: 1.0000\n",
            "Epoch 205/500\n",
            "1/1 [==============================] - 0s 8ms/step - loss: 5.0146e-04 - accuracy: 1.0000\n",
            "Epoch 206/500\n",
            "1/1 [==============================] - 0s 8ms/step - loss: 4.9821e-04 - accuracy: 1.0000\n",
            "Epoch 207/500\n",
            "1/1 [==============================] - 0s 7ms/step - loss: 4.9506e-04 - accuracy: 1.0000\n",
            "Epoch 208/500\n",
            "1/1 [==============================] - 0s 8ms/step - loss: 4.9188e-04 - accuracy: 1.0000\n",
            "Epoch 209/500\n",
            "1/1 [==============================] - 0s 7ms/step - loss: 4.8871e-04 - accuracy: 1.0000\n",
            "Epoch 210/500\n",
            "1/1 [==============================] - 0s 8ms/step - loss: 4.8561e-04 - accuracy: 1.0000\n",
            "Epoch 211/500\n",
            "1/1 [==============================] - 0s 11ms/step - loss: 4.8256e-04 - accuracy: 1.0000\n",
            "Epoch 212/500\n",
            "1/1 [==============================] - 0s 7ms/step - loss: 4.7947e-04 - accuracy: 1.0000\n",
            "Epoch 213/500\n",
            "1/1 [==============================] - 0s 7ms/step - loss: 4.7648e-04 - accuracy: 1.0000\n",
            "Epoch 214/500\n",
            "1/1 [==============================] - 0s 7ms/step - loss: 4.7347e-04 - accuracy: 1.0000\n",
            "Epoch 215/500\n",
            "1/1 [==============================] - 0s 7ms/step - loss: 4.7051e-04 - accuracy: 1.0000\n",
            "Epoch 216/500\n",
            "1/1 [==============================] - 0s 8ms/step - loss: 4.6755e-04 - accuracy: 1.0000\n",
            "Epoch 217/500\n",
            "1/1 [==============================] - 0s 7ms/step - loss: 4.6463e-04 - accuracy: 1.0000\n",
            "Epoch 218/500\n",
            "1/1 [==============================] - 0s 7ms/step - loss: 4.6175e-04 - accuracy: 1.0000\n",
            "Epoch 219/500\n",
            "1/1 [==============================] - 0s 8ms/step - loss: 4.5891e-04 - accuracy: 1.0000\n",
            "Epoch 220/500\n",
            "1/1 [==============================] - 0s 7ms/step - loss: 4.5607e-04 - accuracy: 1.0000\n",
            "Epoch 221/500\n",
            "1/1 [==============================] - 0s 8ms/step - loss: 4.5322e-04 - accuracy: 1.0000\n",
            "Epoch 222/500\n",
            "1/1 [==============================] - 0s 7ms/step - loss: 4.5050e-04 - accuracy: 1.0000\n",
            "Epoch 223/500\n",
            "1/1 [==============================] - 0s 284ms/step - loss: 4.4770e-04 - accuracy: 1.0000\n",
            "Epoch 224/500\n",
            "1/1 [==============================] - 0s 10ms/step - loss: 4.4496e-04 - accuracy: 1.0000\n",
            "Epoch 225/500\n",
            "1/1 [==============================] - 0s 16ms/step - loss: 4.4226e-04 - accuracy: 1.0000\n",
            "Epoch 226/500\n",
            "1/1 [==============================] - 0s 18ms/step - loss: 4.3957e-04 - accuracy: 1.0000\n",
            "Epoch 227/500\n",
            "1/1 [==============================] - 0s 22ms/step - loss: 4.3689e-04 - accuracy: 1.0000\n",
            "Epoch 228/500\n",
            "1/1 [==============================] - 0s 13ms/step - loss: 4.3427e-04 - accuracy: 1.0000\n",
            "Epoch 229/500\n",
            "1/1 [==============================] - 0s 18ms/step - loss: 4.3166e-04 - accuracy: 1.0000\n",
            "Epoch 230/500\n",
            "1/1 [==============================] - 0s 11ms/step - loss: 4.2905e-04 - accuracy: 1.0000\n",
            "Epoch 231/500\n",
            "1/1 [==============================] - 0s 18ms/step - loss: 4.2647e-04 - accuracy: 1.0000\n",
            "Epoch 232/500\n",
            "1/1 [==============================] - 0s 12ms/step - loss: 4.2394e-04 - accuracy: 1.0000\n",
            "Epoch 233/500\n",
            "1/1 [==============================] - 0s 11ms/step - loss: 4.2142e-04 - accuracy: 1.0000\n",
            "Epoch 234/500\n",
            "1/1 [==============================] - 0s 16ms/step - loss: 4.1889e-04 - accuracy: 1.0000\n",
            "Epoch 235/500\n",
            "1/1 [==============================] - 0s 10ms/step - loss: 4.1638e-04 - accuracy: 1.0000\n",
            "Epoch 236/500\n",
            "1/1 [==============================] - 0s 13ms/step - loss: 4.1396e-04 - accuracy: 1.0000\n",
            "Epoch 237/500\n",
            "1/1 [==============================] - 0s 12ms/step - loss: 4.1146e-04 - accuracy: 1.0000\n",
            "Epoch 238/500\n",
            "1/1 [==============================] - 0s 13ms/step - loss: 4.0908e-04 - accuracy: 1.0000\n",
            "Epoch 239/500\n",
            "1/1 [==============================] - 0s 14ms/step - loss: 4.0668e-04 - accuracy: 1.0000\n",
            "Epoch 240/500\n",
            "1/1 [==============================] - 0s 15ms/step - loss: 4.0431e-04 - accuracy: 1.0000\n",
            "Epoch 241/500\n",
            "1/1 [==============================] - 0s 11ms/step - loss: 4.0195e-04 - accuracy: 1.0000\n",
            "Epoch 242/500\n",
            "1/1 [==============================] - 0s 14ms/step - loss: 3.9960e-04 - accuracy: 1.0000\n",
            "Epoch 243/500\n",
            "1/1 [==============================] - 0s 14ms/step - loss: 3.9729e-04 - accuracy: 1.0000\n",
            "Epoch 244/500\n",
            "1/1 [==============================] - 0s 22ms/step - loss: 3.9498e-04 - accuracy: 1.0000\n",
            "Epoch 245/500\n",
            "1/1 [==============================] - 0s 15ms/step - loss: 3.9268e-04 - accuracy: 1.0000\n",
            "Epoch 246/500\n",
            "1/1 [==============================] - 0s 15ms/step - loss: 3.9043e-04 - accuracy: 1.0000\n",
            "Epoch 247/500\n",
            "1/1 [==============================] - 0s 13ms/step - loss: 3.8817e-04 - accuracy: 1.0000\n",
            "Epoch 248/500\n",
            "1/1 [==============================] - 0s 12ms/step - loss: 3.8593e-04 - accuracy: 1.0000\n",
            "Epoch 249/500\n",
            "1/1 [==============================] - 0s 13ms/step - loss: 3.8376e-04 - accuracy: 1.0000\n",
            "Epoch 250/500\n",
            "1/1 [==============================] - 0s 12ms/step - loss: 3.8154e-04 - accuracy: 1.0000\n",
            "Epoch 251/500\n",
            "1/1 [==============================] - 0s 18ms/step - loss: 3.7938e-04 - accuracy: 1.0000\n",
            "Epoch 252/500\n",
            "1/1 [==============================] - 0s 12ms/step - loss: 3.7725e-04 - accuracy: 1.0000\n",
            "Epoch 253/500\n",
            "1/1 [==============================] - 0s 13ms/step - loss: 3.7507e-04 - accuracy: 1.0000\n",
            "Epoch 254/500\n",
            "1/1 [==============================] - 0s 16ms/step - loss: 3.7296e-04 - accuracy: 1.0000\n",
            "Epoch 255/500\n",
            "1/1 [==============================] - 0s 15ms/step - loss: 3.7087e-04 - accuracy: 1.0000\n",
            "Epoch 256/500\n",
            "1/1 [==============================] - 0s 17ms/step - loss: 3.6878e-04 - accuracy: 1.0000\n",
            "Epoch 257/500\n",
            "1/1 [==============================] - 0s 18ms/step - loss: 3.6669e-04 - accuracy: 1.0000\n",
            "Epoch 258/500\n",
            "1/1 [==============================] - 0s 11ms/step - loss: 3.6465e-04 - accuracy: 1.0000\n",
            "Epoch 259/500\n",
            "1/1 [==============================] - 0s 19ms/step - loss: 3.6259e-04 - accuracy: 1.0000\n",
            "Epoch 260/500\n",
            "1/1 [==============================] - 0s 14ms/step - loss: 3.6058e-04 - accuracy: 1.0000\n",
            "Epoch 261/500\n",
            "1/1 [==============================] - 0s 21ms/step - loss: 3.5856e-04 - accuracy: 1.0000\n",
            "Epoch 262/500\n",
            "1/1 [==============================] - 0s 15ms/step - loss: 3.5656e-04 - accuracy: 1.0000\n",
            "Epoch 263/500\n",
            "1/1 [==============================] - 0s 16ms/step - loss: 3.5461e-04 - accuracy: 1.0000\n",
            "Epoch 264/500\n",
            "1/1 [==============================] - 0s 18ms/step - loss: 3.5261e-04 - accuracy: 1.0000\n",
            "Epoch 265/500\n",
            "1/1 [==============================] - 0s 13ms/step - loss: 3.5071e-04 - accuracy: 1.0000\n",
            "Epoch 266/500\n",
            "1/1 [==============================] - 0s 21ms/step - loss: 3.4879e-04 - accuracy: 1.0000\n",
            "Epoch 267/500\n",
            "1/1 [==============================] - 0s 17ms/step - loss: 3.4681e-04 - accuracy: 1.0000\n",
            "Epoch 268/500\n",
            "1/1 [==============================] - 0s 15ms/step - loss: 3.4493e-04 - accuracy: 1.0000\n",
            "Epoch 269/500\n",
            "1/1 [==============================] - 0s 16ms/step - loss: 3.4304e-04 - accuracy: 1.0000\n",
            "Epoch 270/500\n",
            "1/1 [==============================] - 0s 17ms/step - loss: 3.4119e-04 - accuracy: 1.0000\n",
            "Epoch 271/500\n",
            "1/1 [==============================] - 0s 12ms/step - loss: 3.3933e-04 - accuracy: 1.0000\n",
            "Epoch 272/500\n",
            "1/1 [==============================] - 0s 13ms/step - loss: 3.3750e-04 - accuracy: 1.0000\n",
            "Epoch 273/500\n",
            "1/1 [==============================] - 0s 10ms/step - loss: 3.3569e-04 - accuracy: 1.0000\n",
            "Epoch 274/500\n",
            "1/1 [==============================] - 0s 8ms/step - loss: 3.3383e-04 - accuracy: 1.0000\n",
            "Epoch 275/500\n",
            "1/1 [==============================] - 0s 7ms/step - loss: 3.3205e-04 - accuracy: 1.0000\n",
            "Epoch 276/500\n",
            "1/1 [==============================] - 0s 9ms/step - loss: 3.3022e-04 - accuracy: 1.0000\n",
            "Epoch 277/500\n",
            "1/1 [==============================] - 0s 9ms/step - loss: 3.2847e-04 - accuracy: 1.0000\n",
            "Epoch 278/500\n",
            "1/1 [==============================] - 0s 10ms/step - loss: 3.2668e-04 - accuracy: 1.0000\n",
            "Epoch 279/500\n",
            "1/1 [==============================] - 0s 13ms/step - loss: 3.2499e-04 - accuracy: 1.0000\n",
            "Epoch 280/500\n",
            "1/1 [==============================] - 0s 8ms/step - loss: 3.2324e-04 - accuracy: 1.0000\n",
            "Epoch 281/500\n",
            "1/1 [==============================] - 0s 14ms/step - loss: 3.2151e-04 - accuracy: 1.0000\n",
            "Epoch 282/500\n",
            "1/1 [==============================] - 0s 12ms/step - loss: 3.1981e-04 - accuracy: 1.0000\n",
            "Epoch 283/500\n",
            "1/1 [==============================] - 0s 11ms/step - loss: 3.1812e-04 - accuracy: 1.0000\n",
            "Epoch 284/500\n",
            "1/1 [==============================] - 0s 17ms/step - loss: 3.1645e-04 - accuracy: 1.0000\n",
            "Epoch 285/500\n",
            "1/1 [==============================] - 0s 8ms/step - loss: 3.1477e-04 - accuracy: 1.0000\n",
            "Epoch 286/500\n",
            "1/1 [==============================] - 0s 8ms/step - loss: 3.1311e-04 - accuracy: 1.0000\n",
            "Epoch 287/500\n",
            "1/1 [==============================] - 0s 10ms/step - loss: 3.1148e-04 - accuracy: 1.0000\n",
            "Epoch 288/500\n",
            "1/1 [==============================] - 0s 8ms/step - loss: 3.0984e-04 - accuracy: 1.0000\n",
            "Epoch 289/500\n",
            "1/1 [==============================] - 0s 8ms/step - loss: 3.0819e-04 - accuracy: 1.0000\n",
            "Epoch 290/500\n",
            "1/1 [==============================] - 0s 11ms/step - loss: 3.0663e-04 - accuracy: 1.0000\n",
            "Epoch 291/500\n",
            "1/1 [==============================] - 0s 8ms/step - loss: 3.0504e-04 - accuracy: 1.0000\n",
            "Epoch 292/500\n",
            "1/1 [==============================] - 0s 8ms/step - loss: 3.0343e-04 - accuracy: 1.0000\n",
            "Epoch 293/500\n",
            "1/1 [==============================] - 0s 9ms/step - loss: 3.0193e-04 - accuracy: 1.0000\n",
            "Epoch 294/500\n",
            "1/1 [==============================] - 0s 12ms/step - loss: 3.0031e-04 - accuracy: 1.0000\n",
            "Epoch 295/500\n",
            "1/1 [==============================] - 0s 8ms/step - loss: 2.9876e-04 - accuracy: 1.0000\n",
            "Epoch 296/500\n",
            "1/1 [==============================] - 0s 8ms/step - loss: 2.9724e-04 - accuracy: 1.0000\n",
            "Epoch 297/500\n",
            "1/1 [==============================] - 0s 9ms/step - loss: 2.9575e-04 - accuracy: 1.0000\n",
            "Epoch 298/500\n",
            "1/1 [==============================] - 0s 13ms/step - loss: 2.9424e-04 - accuracy: 1.0000\n",
            "Epoch 299/500\n",
            "1/1 [==============================] - 0s 17ms/step - loss: 2.9272e-04 - accuracy: 1.0000\n",
            "Epoch 300/500\n",
            "1/1 [==============================] - 0s 16ms/step - loss: 2.9121e-04 - accuracy: 1.0000\n",
            "Epoch 301/500\n",
            "1/1 [==============================] - 0s 15ms/step - loss: 2.8975e-04 - accuracy: 1.0000\n",
            "Epoch 302/500\n",
            "1/1 [==============================] - 0s 11ms/step - loss: 2.8830e-04 - accuracy: 1.0000\n",
            "Epoch 303/500\n",
            "1/1 [==============================] - 0s 11ms/step - loss: 2.8679e-04 - accuracy: 1.0000\n",
            "Epoch 304/500\n",
            "1/1 [==============================] - 0s 15ms/step - loss: 2.8537e-04 - accuracy: 1.0000\n",
            "Epoch 305/500\n",
            "1/1 [==============================] - 0s 14ms/step - loss: 2.8394e-04 - accuracy: 1.0000\n",
            "Epoch 306/500\n",
            "1/1 [==============================] - 0s 13ms/step - loss: 2.8255e-04 - accuracy: 1.0000\n",
            "Epoch 307/500\n",
            "1/1 [==============================] - 0s 16ms/step - loss: 2.8111e-04 - accuracy: 1.0000\n",
            "Epoch 308/500\n",
            "1/1 [==============================] - 0s 11ms/step - loss: 2.7968e-04 - accuracy: 1.0000\n",
            "Epoch 309/500\n",
            "1/1 [==============================] - 0s 16ms/step - loss: 2.7833e-04 - accuracy: 1.0000\n",
            "Epoch 310/500\n",
            "1/1 [==============================] - 0s 21ms/step - loss: 2.7695e-04 - accuracy: 1.0000\n",
            "Epoch 311/500\n",
            "1/1 [==============================] - 0s 14ms/step - loss: 2.7556e-04 - accuracy: 1.0000\n",
            "Epoch 312/500\n",
            "1/1 [==============================] - 0s 16ms/step - loss: 2.7420e-04 - accuracy: 1.0000\n",
            "Epoch 313/500\n",
            "1/1 [==============================] - 0s 13ms/step - loss: 2.7284e-04 - accuracy: 1.0000\n",
            "Epoch 314/500\n",
            "1/1 [==============================] - 0s 12ms/step - loss: 2.7151e-04 - accuracy: 1.0000\n",
            "Epoch 315/500\n",
            "1/1 [==============================] - 0s 13ms/step - loss: 2.7015e-04 - accuracy: 1.0000\n",
            "Epoch 316/500\n",
            "1/1 [==============================] - 0s 11ms/step - loss: 2.6883e-04 - accuracy: 1.0000\n",
            "Epoch 317/500\n",
            "1/1 [==============================] - 0s 11ms/step - loss: 2.6749e-04 - accuracy: 1.0000\n",
            "Epoch 318/500\n",
            "1/1 [==============================] - 0s 12ms/step - loss: 2.6620e-04 - accuracy: 1.0000\n",
            "Epoch 319/500\n",
            "1/1 [==============================] - 0s 12ms/step - loss: 2.6489e-04 - accuracy: 1.0000\n",
            "Epoch 320/500\n",
            "1/1 [==============================] - 0s 14ms/step - loss: 2.6361e-04 - accuracy: 1.0000\n",
            "Epoch 321/500\n",
            "1/1 [==============================] - 0s 13ms/step - loss: 2.6233e-04 - accuracy: 1.0000\n",
            "Epoch 322/500\n",
            "1/1 [==============================] - 0s 15ms/step - loss: 2.6108e-04 - accuracy: 1.0000\n",
            "Epoch 323/500\n",
            "1/1 [==============================] - 0s 15ms/step - loss: 2.5981e-04 - accuracy: 1.0000\n",
            "Epoch 324/500\n",
            "1/1 [==============================] - 0s 16ms/step - loss: 2.5855e-04 - accuracy: 1.0000\n",
            "Epoch 325/500\n",
            "1/1 [==============================] - 0s 11ms/step - loss: 2.5730e-04 - accuracy: 1.0000\n",
            "Epoch 326/500\n",
            "1/1 [==============================] - 0s 14ms/step - loss: 2.5606e-04 - accuracy: 1.0000\n",
            "Epoch 327/500\n",
            "1/1 [==============================] - 0s 10ms/step - loss: 2.5483e-04 - accuracy: 1.0000\n",
            "Epoch 328/500\n",
            "1/1 [==============================] - 0s 16ms/step - loss: 2.5362e-04 - accuracy: 1.0000\n",
            "Epoch 329/500\n",
            "1/1 [==============================] - 0s 15ms/step - loss: 2.5241e-04 - accuracy: 1.0000\n",
            "Epoch 330/500\n",
            "1/1 [==============================] - 0s 16ms/step - loss: 2.5120e-04 - accuracy: 1.0000\n",
            "Epoch 331/500\n",
            "1/1 [==============================] - 0s 18ms/step - loss: 2.5002e-04 - accuracy: 1.0000\n",
            "Epoch 332/500\n",
            "1/1 [==============================] - 0s 14ms/step - loss: 2.4883e-04 - accuracy: 1.0000\n",
            "Epoch 333/500\n",
            "1/1 [==============================] - 0s 13ms/step - loss: 2.4768e-04 - accuracy: 1.0000\n",
            "Epoch 334/500\n",
            "1/1 [==============================] - 0s 19ms/step - loss: 2.4646e-04 - accuracy: 1.0000\n",
            "Epoch 335/500\n",
            "1/1 [==============================] - 0s 15ms/step - loss: 2.4533e-04 - accuracy: 1.0000\n",
            "Epoch 336/500\n",
            "1/1 [==============================] - 0s 15ms/step - loss: 2.4419e-04 - accuracy: 1.0000\n",
            "Epoch 337/500\n",
            "1/1 [==============================] - 0s 15ms/step - loss: 2.4303e-04 - accuracy: 1.0000\n",
            "Epoch 338/500\n",
            "1/1 [==============================] - 0s 18ms/step - loss: 2.4186e-04 - accuracy: 1.0000\n",
            "Epoch 339/500\n",
            "1/1 [==============================] - 0s 17ms/step - loss: 2.4075e-04 - accuracy: 1.0000\n",
            "Epoch 340/500\n",
            "1/1 [==============================] - 0s 17ms/step - loss: 2.3961e-04 - accuracy: 1.0000\n",
            "Epoch 341/500\n",
            "1/1 [==============================] - 0s 18ms/step - loss: 2.3851e-04 - accuracy: 1.0000\n",
            "Epoch 342/500\n",
            "1/1 [==============================] - 0s 15ms/step - loss: 2.3737e-04 - accuracy: 1.0000\n",
            "Epoch 343/500\n",
            "1/1 [==============================] - 0s 13ms/step - loss: 2.3630e-04 - accuracy: 1.0000\n",
            "Epoch 344/500\n",
            "1/1 [==============================] - 0s 19ms/step - loss: 2.3520e-04 - accuracy: 1.0000\n",
            "Epoch 345/500\n",
            "1/1 [==============================] - 0s 13ms/step - loss: 2.3413e-04 - accuracy: 1.0000\n",
            "Epoch 346/500\n",
            "1/1 [==============================] - 0s 13ms/step - loss: 2.3305e-04 - accuracy: 1.0000\n",
            "Epoch 347/500\n",
            "1/1 [==============================] - 0s 19ms/step - loss: 2.3196e-04 - accuracy: 1.0000\n",
            "Epoch 348/500\n",
            "1/1 [==============================] - 0s 18ms/step - loss: 2.3088e-04 - accuracy: 1.0000\n",
            "Epoch 349/500\n",
            "1/1 [==============================] - 0s 11ms/step - loss: 2.2984e-04 - accuracy: 1.0000\n",
            "Epoch 350/500\n",
            "1/1 [==============================] - 0s 19ms/step - loss: 2.2879e-04 - accuracy: 1.0000\n",
            "Epoch 351/500\n",
            "1/1 [==============================] - 0s 15ms/step - loss: 2.2772e-04 - accuracy: 1.0000\n",
            "Epoch 352/500\n",
            "1/1 [==============================] - 0s 20ms/step - loss: 2.2672e-04 - accuracy: 1.0000\n",
            "Epoch 353/500\n",
            "1/1 [==============================] - 0s 23ms/step - loss: 2.2569e-04 - accuracy: 1.0000\n",
            "Epoch 354/500\n",
            "1/1 [==============================] - 0s 17ms/step - loss: 2.2466e-04 - accuracy: 1.0000\n",
            "Epoch 355/500\n",
            "1/1 [==============================] - 0s 15ms/step - loss: 2.2364e-04 - accuracy: 1.0000\n",
            "Epoch 356/500\n",
            "1/1 [==============================] - 0s 14ms/step - loss: 2.2262e-04 - accuracy: 1.0000\n",
            "Epoch 357/500\n",
            "1/1 [==============================] - 0s 11ms/step - loss: 2.2166e-04 - accuracy: 1.0000\n",
            "Epoch 358/500\n",
            "1/1 [==============================] - 0s 10ms/step - loss: 2.2061e-04 - accuracy: 1.0000\n",
            "Epoch 359/500\n",
            "1/1 [==============================] - 0s 9ms/step - loss: 2.1962e-04 - accuracy: 1.0000\n",
            "Epoch 360/500\n",
            "1/1 [==============================] - 0s 9ms/step - loss: 2.1864e-04 - accuracy: 1.0000\n",
            "Epoch 361/500\n",
            "1/1 [==============================] - 0s 9ms/step - loss: 2.1766e-04 - accuracy: 1.0000\n",
            "Epoch 362/500\n",
            "1/1 [==============================] - 0s 9ms/step - loss: 2.1672e-04 - accuracy: 1.0000\n",
            "Epoch 363/500\n",
            "1/1 [==============================] - 0s 11ms/step - loss: 2.1574e-04 - accuracy: 1.0000\n",
            "Epoch 364/500\n",
            "1/1 [==============================] - 0s 9ms/step - loss: 2.1477e-04 - accuracy: 1.0000\n",
            "Epoch 365/500\n",
            "1/1 [==============================] - 0s 9ms/step - loss: 2.1384e-04 - accuracy: 1.0000\n",
            "Epoch 366/500\n",
            "1/1 [==============================] - 0s 13ms/step - loss: 2.1289e-04 - accuracy: 1.0000\n",
            "Epoch 367/500\n",
            "1/1 [==============================] - 0s 12ms/step - loss: 2.1194e-04 - accuracy: 1.0000\n",
            "Epoch 368/500\n",
            "1/1 [==============================] - 0s 9ms/step - loss: 2.1098e-04 - accuracy: 1.0000\n",
            "Epoch 369/500\n",
            "1/1 [==============================] - 0s 21ms/step - loss: 2.1004e-04 - accuracy: 1.0000\n",
            "Epoch 370/500\n",
            "1/1 [==============================] - 0s 17ms/step - loss: 2.0910e-04 - accuracy: 1.0000\n",
            "Epoch 371/500\n",
            "1/1 [==============================] - 0s 20ms/step - loss: 2.0820e-04 - accuracy: 1.0000\n",
            "Epoch 372/500\n",
            "1/1 [==============================] - 0s 17ms/step - loss: 2.0722e-04 - accuracy: 1.0000\n",
            "Epoch 373/500\n",
            "1/1 [==============================] - 0s 22ms/step - loss: 2.0632e-04 - accuracy: 1.0000\n",
            "Epoch 374/500\n",
            "1/1 [==============================] - 0s 13ms/step - loss: 2.0540e-04 - accuracy: 1.0000\n",
            "Epoch 375/500\n",
            "1/1 [==============================] - 0s 15ms/step - loss: 2.0449e-04 - accuracy: 1.0000\n",
            "Epoch 376/500\n",
            "1/1 [==============================] - 0s 21ms/step - loss: 2.0357e-04 - accuracy: 1.0000\n",
            "Epoch 377/500\n",
            "1/1 [==============================] - 0s 15ms/step - loss: 2.0264e-04 - accuracy: 1.0000\n",
            "Epoch 378/500\n",
            "1/1 [==============================] - 0s 17ms/step - loss: 2.0174e-04 - accuracy: 1.0000\n",
            "Epoch 379/500\n",
            "1/1 [==============================] - 0s 16ms/step - loss: 2.0084e-04 - accuracy: 1.0000\n",
            "Epoch 380/500\n",
            "1/1 [==============================] - 0s 17ms/step - loss: 1.9997e-04 - accuracy: 1.0000\n",
            "Epoch 381/500\n",
            "1/1 [==============================] - 0s 20ms/step - loss: 1.9911e-04 - accuracy: 1.0000\n",
            "Epoch 382/500\n",
            "1/1 [==============================] - 0s 11ms/step - loss: 1.9818e-04 - accuracy: 1.0000\n",
            "Epoch 383/500\n",
            "1/1 [==============================] - 0s 19ms/step - loss: 1.9733e-04 - accuracy: 1.0000\n",
            "Epoch 384/500\n",
            "1/1 [==============================] - 0s 19ms/step - loss: 1.9643e-04 - accuracy: 1.0000\n",
            "Epoch 385/500\n",
            "1/1 [==============================] - 0s 16ms/step - loss: 1.9558e-04 - accuracy: 1.0000\n",
            "Epoch 386/500\n",
            "1/1 [==============================] - 0s 14ms/step - loss: 1.9471e-04 - accuracy: 1.0000\n",
            "Epoch 387/500\n",
            "1/1 [==============================] - 0s 16ms/step - loss: 1.9387e-04 - accuracy: 1.0000\n",
            "Epoch 388/500\n",
            "1/1 [==============================] - 0s 20ms/step - loss: 1.9299e-04 - accuracy: 1.0000\n",
            "Epoch 389/500\n",
            "1/1 [==============================] - 0s 18ms/step - loss: 1.9213e-04 - accuracy: 1.0000\n",
            "Epoch 390/500\n",
            "1/1 [==============================] - 0s 28ms/step - loss: 1.9130e-04 - accuracy: 1.0000\n",
            "Epoch 391/500\n",
            "1/1 [==============================] - 0s 12ms/step - loss: 1.9047e-04 - accuracy: 1.0000\n",
            "Epoch 392/500\n",
            "1/1 [==============================] - 0s 17ms/step - loss: 1.8964e-04 - accuracy: 1.0000\n",
            "Epoch 393/500\n",
            "1/1 [==============================] - 0s 23ms/step - loss: 1.8879e-04 - accuracy: 1.0000\n",
            "Epoch 394/500\n",
            "1/1 [==============================] - 0s 16ms/step - loss: 1.8799e-04 - accuracy: 1.0000\n",
            "Epoch 395/500\n",
            "1/1 [==============================] - 0s 18ms/step - loss: 1.8715e-04 - accuracy: 1.0000\n",
            "Epoch 396/500\n",
            "1/1 [==============================] - 0s 14ms/step - loss: 1.8638e-04 - accuracy: 1.0000\n",
            "Epoch 397/500\n",
            "1/1 [==============================] - 0s 11ms/step - loss: 1.8556e-04 - accuracy: 1.0000\n",
            "Epoch 398/500\n",
            "1/1 [==============================] - 0s 14ms/step - loss: 1.8476e-04 - accuracy: 1.0000\n",
            "Epoch 399/500\n",
            "1/1 [==============================] - 0s 13ms/step - loss: 1.8392e-04 - accuracy: 1.0000\n",
            "Epoch 400/500\n",
            "1/1 [==============================] - 0s 15ms/step - loss: 1.8316e-04 - accuracy: 1.0000\n",
            "Epoch 401/500\n",
            "1/1 [==============================] - 0s 13ms/step - loss: 1.8238e-04 - accuracy: 1.0000\n",
            "Epoch 402/500\n",
            "1/1 [==============================] - 0s 11ms/step - loss: 1.8158e-04 - accuracy: 1.0000\n",
            "Epoch 403/500\n",
            "1/1 [==============================] - 0s 15ms/step - loss: 1.8079e-04 - accuracy: 1.0000\n",
            "Epoch 404/500\n",
            "1/1 [==============================] - 0s 14ms/step - loss: 1.8005e-04 - accuracy: 1.0000\n",
            "Epoch 405/500\n",
            "1/1 [==============================] - 0s 18ms/step - loss: 1.7926e-04 - accuracy: 1.0000\n",
            "Epoch 406/500\n",
            "1/1 [==============================] - 0s 17ms/step - loss: 1.7852e-04 - accuracy: 1.0000\n",
            "Epoch 407/500\n",
            "1/1 [==============================] - 0s 16ms/step - loss: 1.7774e-04 - accuracy: 1.0000\n",
            "Epoch 408/500\n",
            "1/1 [==============================] - 0s 18ms/step - loss: 1.7700e-04 - accuracy: 1.0000\n",
            "Epoch 409/500\n",
            "1/1 [==============================] - 0s 13ms/step - loss: 1.7623e-04 - accuracy: 1.0000\n",
            "Epoch 410/500\n",
            "1/1 [==============================] - 0s 11ms/step - loss: 1.7548e-04 - accuracy: 1.0000\n",
            "Epoch 411/500\n",
            "1/1 [==============================] - 0s 23ms/step - loss: 1.7474e-04 - accuracy: 1.0000\n",
            "Epoch 412/500\n",
            "1/1 [==============================] - 0s 12ms/step - loss: 1.7399e-04 - accuracy: 1.0000\n",
            "Epoch 413/500\n",
            "1/1 [==============================] - 0s 15ms/step - loss: 1.7328e-04 - accuracy: 1.0000\n",
            "Epoch 414/500\n",
            "1/1 [==============================] - 0s 20ms/step - loss: 1.7256e-04 - accuracy: 1.0000\n",
            "Epoch 415/500\n",
            "1/1 [==============================] - 0s 16ms/step - loss: 1.7184e-04 - accuracy: 1.0000\n",
            "Epoch 416/500\n",
            "1/1 [==============================] - 0s 14ms/step - loss: 1.7113e-04 - accuracy: 1.0000\n",
            "Epoch 417/500\n",
            "1/1 [==============================] - 0s 12ms/step - loss: 1.7037e-04 - accuracy: 1.0000\n",
            "Epoch 418/500\n",
            "1/1 [==============================] - 0s 13ms/step - loss: 1.6970e-04 - accuracy: 1.0000\n",
            "Epoch 419/500\n",
            "1/1 [==============================] - 0s 15ms/step - loss: 1.6900e-04 - accuracy: 1.0000\n",
            "Epoch 420/500\n",
            "1/1 [==============================] - 0s 16ms/step - loss: 1.6830e-04 - accuracy: 1.0000\n",
            "Epoch 421/500\n",
            "1/1 [==============================] - 0s 17ms/step - loss: 1.6760e-04 - accuracy: 1.0000\n",
            "Epoch 422/500\n",
            "1/1 [==============================] - 0s 16ms/step - loss: 1.6690e-04 - accuracy: 1.0000\n",
            "Epoch 423/500\n",
            "1/1 [==============================] - 0s 14ms/step - loss: 1.6621e-04 - accuracy: 1.0000\n",
            "Epoch 424/500\n",
            "1/1 [==============================] - 0s 10ms/step - loss: 1.6555e-04 - accuracy: 1.0000\n",
            "Epoch 425/500\n",
            "1/1 [==============================] - 0s 16ms/step - loss: 1.6486e-04 - accuracy: 1.0000\n",
            "Epoch 426/500\n",
            "1/1 [==============================] - 0s 15ms/step - loss: 1.6418e-04 - accuracy: 1.0000\n",
            "Epoch 427/500\n",
            "1/1 [==============================] - 0s 10ms/step - loss: 1.6351e-04 - accuracy: 1.0000\n",
            "Epoch 428/500\n",
            "1/1 [==============================] - 0s 15ms/step - loss: 1.6287e-04 - accuracy: 1.0000\n",
            "Epoch 429/500\n",
            "1/1 [==============================] - 0s 14ms/step - loss: 1.6218e-04 - accuracy: 1.0000\n",
            "Epoch 430/500\n",
            "1/1 [==============================] - 0s 11ms/step - loss: 1.6152e-04 - accuracy: 1.0000\n",
            "Epoch 431/500\n",
            "1/1 [==============================] - 0s 18ms/step - loss: 1.6085e-04 - accuracy: 1.0000\n",
            "Epoch 432/500\n",
            "1/1 [==============================] - 0s 13ms/step - loss: 1.6021e-04 - accuracy: 1.0000\n",
            "Epoch 433/500\n",
            "1/1 [==============================] - 0s 18ms/step - loss: 1.5952e-04 - accuracy: 1.0000\n",
            "Epoch 434/500\n",
            "1/1 [==============================] - 0s 15ms/step - loss: 1.5894e-04 - accuracy: 1.0000\n",
            "Epoch 435/500\n",
            "1/1 [==============================] - 0s 12ms/step - loss: 1.5827e-04 - accuracy: 1.0000\n",
            "Epoch 436/500\n",
            "1/1 [==============================] - 0s 15ms/step - loss: 1.5764e-04 - accuracy: 1.0000\n",
            "Epoch 437/500\n",
            "1/1 [==============================] - 0s 15ms/step - loss: 1.5702e-04 - accuracy: 1.0000\n",
            "Epoch 438/500\n",
            "1/1 [==============================] - 0s 15ms/step - loss: 1.5638e-04 - accuracy: 1.0000\n",
            "Epoch 439/500\n",
            "1/1 [==============================] - 0s 15ms/step - loss: 1.5578e-04 - accuracy: 1.0000\n",
            "Epoch 440/500\n",
            "1/1 [==============================] - 0s 13ms/step - loss: 1.5513e-04 - accuracy: 1.0000\n",
            "Epoch 441/500\n",
            "1/1 [==============================] - 0s 20ms/step - loss: 1.5456e-04 - accuracy: 1.0000\n",
            "Epoch 442/500\n",
            "1/1 [==============================] - 0s 17ms/step - loss: 1.5393e-04 - accuracy: 1.0000\n",
            "Epoch 443/500\n",
            "1/1 [==============================] - 0s 12ms/step - loss: 1.5332e-04 - accuracy: 1.0000\n",
            "Epoch 444/500\n",
            "1/1 [==============================] - 0s 17ms/step - loss: 1.5268e-04 - accuracy: 1.0000\n",
            "Epoch 445/500\n",
            "1/1 [==============================] - 0s 16ms/step - loss: 1.5210e-04 - accuracy: 1.0000\n",
            "Epoch 446/500\n",
            "1/1 [==============================] - 0s 10ms/step - loss: 1.5148e-04 - accuracy: 1.0000\n",
            "Epoch 447/500\n",
            "1/1 [==============================] - 0s 15ms/step - loss: 1.5087e-04 - accuracy: 1.0000\n",
            "Epoch 448/500\n",
            "1/1 [==============================] - 0s 15ms/step - loss: 1.5029e-04 - accuracy: 1.0000\n",
            "Epoch 449/500\n",
            "1/1 [==============================] - 0s 15ms/step - loss: 1.4970e-04 - accuracy: 1.0000\n",
            "Epoch 450/500\n",
            "1/1 [==============================] - 0s 15ms/step - loss: 1.4913e-04 - accuracy: 1.0000\n",
            "Epoch 451/500\n",
            "1/1 [==============================] - 0s 17ms/step - loss: 1.4853e-04 - accuracy: 1.0000\n",
            "Epoch 452/500\n",
            "1/1 [==============================] - 0s 19ms/step - loss: 1.4797e-04 - accuracy: 1.0000\n",
            "Epoch 453/500\n",
            "1/1 [==============================] - 0s 14ms/step - loss: 1.4742e-04 - accuracy: 1.0000\n",
            "Epoch 454/500\n",
            "1/1 [==============================] - 0s 13ms/step - loss: 1.4681e-04 - accuracy: 1.0000\n",
            "Epoch 455/500\n",
            "1/1 [==============================] - 0s 12ms/step - loss: 1.4625e-04 - accuracy: 1.0000\n",
            "Epoch 456/500\n",
            "1/1 [==============================] - 0s 10ms/step - loss: 1.4570e-04 - accuracy: 1.0000\n",
            "Epoch 457/500\n",
            "1/1 [==============================] - 0s 10ms/step - loss: 1.4511e-04 - accuracy: 1.0000\n",
            "Epoch 458/500\n",
            "1/1 [==============================] - 0s 13ms/step - loss: 1.4456e-04 - accuracy: 1.0000\n",
            "Epoch 459/500\n",
            "1/1 [==============================] - 0s 11ms/step - loss: 1.4399e-04 - accuracy: 1.0000\n",
            "Epoch 460/500\n",
            "1/1 [==============================] - 0s 11ms/step - loss: 1.4346e-04 - accuracy: 1.0000\n",
            "Epoch 461/500\n",
            "1/1 [==============================] - 0s 8ms/step - loss: 1.4289e-04 - accuracy: 1.0000\n",
            "Epoch 462/500\n",
            "1/1 [==============================] - 0s 17ms/step - loss: 1.4237e-04 - accuracy: 1.0000\n",
            "Epoch 463/500\n",
            "1/1 [==============================] - 0s 12ms/step - loss: 1.4183e-04 - accuracy: 1.0000\n",
            "Epoch 464/500\n",
            "1/1 [==============================] - 0s 17ms/step - loss: 1.4126e-04 - accuracy: 1.0000\n",
            "Epoch 465/500\n",
            "1/1 [==============================] - 0s 15ms/step - loss: 1.4073e-04 - accuracy: 1.0000\n",
            "Epoch 466/500\n",
            "1/1 [==============================] - 0s 16ms/step - loss: 1.4024e-04 - accuracy: 1.0000\n",
            "Epoch 467/500\n",
            "1/1 [==============================] - 0s 16ms/step - loss: 1.3971e-04 - accuracy: 1.0000\n",
            "Epoch 468/500\n",
            "1/1 [==============================] - 0s 12ms/step - loss: 1.3917e-04 - accuracy: 1.0000\n",
            "Epoch 469/500\n",
            "1/1 [==============================] - 0s 15ms/step - loss: 1.3869e-04 - accuracy: 1.0000\n",
            "Epoch 470/500\n",
            "1/1 [==============================] - 0s 13ms/step - loss: 1.3816e-04 - accuracy: 1.0000\n",
            "Epoch 471/500\n",
            "1/1 [==============================] - 0s 13ms/step - loss: 1.3761e-04 - accuracy: 1.0000\n",
            "Epoch 472/500\n",
            "1/1 [==============================] - 0s 14ms/step - loss: 1.3711e-04 - accuracy: 1.0000\n",
            "Epoch 473/500\n",
            "1/1 [==============================] - 0s 13ms/step - loss: 1.3660e-04 - accuracy: 1.0000\n",
            "Epoch 474/500\n",
            "1/1 [==============================] - 0s 15ms/step - loss: 1.3609e-04 - accuracy: 1.0000\n",
            "Epoch 475/500\n",
            "1/1 [==============================] - 0s 12ms/step - loss: 1.3561e-04 - accuracy: 1.0000\n",
            "Epoch 476/500\n",
            "1/1 [==============================] - 0s 14ms/step - loss: 1.3510e-04 - accuracy: 1.0000\n",
            "Epoch 477/500\n",
            "1/1 [==============================] - 0s 10ms/step - loss: 1.3464e-04 - accuracy: 1.0000\n",
            "Epoch 478/500\n",
            "1/1 [==============================] - 0s 14ms/step - loss: 1.3414e-04 - accuracy: 1.0000\n",
            "Epoch 479/500\n",
            "1/1 [==============================] - 0s 17ms/step - loss: 1.3365e-04 - accuracy: 1.0000\n",
            "Epoch 480/500\n",
            "1/1 [==============================] - 0s 13ms/step - loss: 1.3315e-04 - accuracy: 1.0000\n",
            "Epoch 481/500\n",
            "1/1 [==============================] - 0s 11ms/step - loss: 1.3266e-04 - accuracy: 1.0000\n",
            "Epoch 482/500\n",
            "1/1 [==============================] - 0s 21ms/step - loss: 1.3218e-04 - accuracy: 1.0000\n",
            "Epoch 483/500\n",
            "1/1 [==============================] - 0s 22ms/step - loss: 1.3172e-04 - accuracy: 1.0000\n",
            "Epoch 484/500\n",
            "1/1 [==============================] - 0s 19ms/step - loss: 1.3122e-04 - accuracy: 1.0000\n",
            "Epoch 485/500\n",
            "1/1 [==============================] - 0s 16ms/step - loss: 1.3074e-04 - accuracy: 1.0000\n",
            "Epoch 486/500\n",
            "1/1 [==============================] - 0s 16ms/step - loss: 1.3025e-04 - accuracy: 1.0000\n",
            "Epoch 487/500\n",
            "1/1 [==============================] - 0s 9ms/step - loss: 1.2978e-04 - accuracy: 1.0000\n",
            "Epoch 488/500\n",
            "1/1 [==============================] - 0s 9ms/step - loss: 1.2932e-04 - accuracy: 1.0000\n",
            "Epoch 489/500\n",
            "1/1 [==============================] - 0s 9ms/step - loss: 1.2888e-04 - accuracy: 1.0000\n",
            "Epoch 490/500\n",
            "1/1 [==============================] - 0s 9ms/step - loss: 1.2841e-04 - accuracy: 1.0000\n",
            "Epoch 491/500\n",
            "1/1 [==============================] - 0s 9ms/step - loss: 1.2793e-04 - accuracy: 1.0000\n",
            "Epoch 492/500\n",
            "1/1 [==============================] - 0s 11ms/step - loss: 1.2745e-04 - accuracy: 1.0000\n",
            "Epoch 493/500\n",
            "1/1 [==============================] - 0s 10ms/step - loss: 1.2704e-04 - accuracy: 1.0000\n",
            "Epoch 494/500\n",
            "1/1 [==============================] - 0s 9ms/step - loss: 1.2657e-04 - accuracy: 1.0000\n",
            "Epoch 495/500\n",
            "1/1 [==============================] - 0s 9ms/step - loss: 1.2611e-04 - accuracy: 1.0000\n",
            "Epoch 496/500\n",
            "1/1 [==============================] - 0s 9ms/step - loss: 1.2569e-04 - accuracy: 1.0000\n",
            "Epoch 497/500\n",
            "1/1 [==============================] - 0s 9ms/step - loss: 1.2523e-04 - accuracy: 1.0000\n",
            "Epoch 498/500\n",
            "1/1 [==============================] - 0s 8ms/step - loss: 1.2477e-04 - accuracy: 1.0000\n",
            "Epoch 499/500\n",
            "1/1 [==============================] - 0s 7ms/step - loss: 1.2435e-04 - accuracy: 1.0000\n",
            "Epoch 500/500\n",
            "1/1 [==============================] - 0s 7ms/step - loss: 1.2394e-04 - accuracy: 1.0000\n"
          ]
        },
        {
          "output_type": "execute_result",
          "data": {
            "text/plain": [
              "<keras.callbacks.History at 0x7f284752d1d0>"
            ]
          },
          "metadata": {},
          "execution_count": 41
        }
      ]
    },
    {
      "cell_type": "code",
      "source": [
        "x_test = np.reshape(x_test, [-1, input_size])\n",
        "scores = model.evaluate(x_test,\n",
        "                        y_test,\n",
        "                        batch_size=batch_size,\n",
        "                        verbose=False)\n",
        "print('Test loss:', scores[0])\n",
        "print('Test accuracy: %0.1f%%' % (100 * scores[1]) )"
      ],
      "metadata": {
        "colab": {
          "base_uri": "https://localhost:8080/"
        },
        "id": "wJo-O5mpNbe4",
        "outputId": "300e8ebe-59c1-4af1-b075-92b275cf1a3f"
      },
      "execution_count": null,
      "outputs": [
        {
          "output_type": "stream",
          "name": "stderr",
          "text": [
            "WARNING:tensorflow:Model was constructed with shape (None, 28, 28, 1) for input KerasTensor(type_spec=TensorSpec(shape=(None, 28, 28, 1), dtype=tf.float32, name='flatten_4_input'), name='flatten_4_input', description=\"created by layer 'flatten_4_input'\"), but it was called on an input with incompatible shape (None, 784).\n"
          ]
        },
        {
          "output_type": "stream",
          "name": "stdout",
          "text": [
            "Test loss: 2.884756565093994\n",
            "Test accuracy: 42.4%\n"
          ]
        }
      ]
    },
    {
      "cell_type": "code",
      "source": [
        "#Show the loss and accuracy.\n",
        "x_test = np.reshape(x_test, [-1, input_size])\n",
        "val_loss,val_acc = model.evaluate(x_test,y_test)\n",
        "print(val_loss,val_acc)\n",
        "\n",
        "model.save('epic_num_reader_augmentation.model.h5')"
      ],
      "metadata": {
        "colab": {
          "base_uri": "https://localhost:8080/"
        },
        "id": "taAuV9TpNlUa",
        "outputId": "cc0b02e4-a659-458b-f041-27e5af2db450"
      },
      "execution_count": null,
      "outputs": [
        {
          "output_type": "stream",
          "name": "stdout",
          "text": [
            "313/313 [==============================] - 1s 2ms/step - loss: 2.8848 - accuracy: 0.4245\n",
            "2.8847570419311523 0.4244999885559082\n"
          ]
        }
      ]
    }
  ]
}